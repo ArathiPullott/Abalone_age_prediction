{
 "cells": [
  {
   "cell_type": "markdown",
   "id": "9fc5efb1",
   "metadata": {
    "papermill": {
     "duration": 0.025769,
     "end_time": "2024-04-19T10:50:41.467159",
     "exception": false,
     "start_time": "2024-04-19T10:50:41.441390",
     "status": "completed"
    },
    "tags": []
   },
   "source": [
    "# <div style=\"text-align: center; background-color:#95a5a6; font-family:Georgia, serif; color: black; padding: 20px;line-height: 1;border-radius:5px; border: 2px solid black;\">ABALONE AGE PREDICTION</div>\n"
   ]
  },
  {
   "cell_type": "markdown",
   "id": "6a8f3f3a",
   "metadata": {
    "papermill": {
     "duration": 0.017951,
     "end_time": "2024-04-19T10:50:41.504031",
     "exception": false,
     "start_time": "2024-04-19T10:50:41.486080",
     "status": "completed"
    },
    "tags": []
   },
   "source": [
    "<div style=\"text-align:center;\">\n",
    "    <img src=\"https://d2jx2rerrg6sh3.cloudfront.net/images/news/ImageForNews_759130_16949816863354501.jpg\" alt=\"Butterfly\" width=\"500\" height=\"250\">\n",
    "</div>\n"
   ]
  },
  {
   "cell_type": "markdown",
   "id": "addb0935",
   "metadata": {
    "papermill": {
     "duration": 0.017753,
     "end_time": "2024-04-19T10:50:41.540284",
     "exception": false,
     "start_time": "2024-04-19T10:50:41.522531",
     "status": "completed"
    },
    "tags": []
   },
   "source": [
    "# <div style=\"font-family:Georgia, serif; color: black;\">What is Abalone?</div>\n",
    "The abalone is a type of marine mollusk characterized by its large, ear-shaped shell and a single, spiral-shaped shell. Highly prized for its tender meat, abalone is often considered a delicacy in many cuisines worldwide. Due to overfishing and habitat degradation, abalone populations face significant threats, leading to conservation efforts to protect these valuable marine creatures.\n",
    "Predicting the age of abalone from physical measurements. The age of abalone is determined by cutting the shell through the cone, staining it, and counting the number of rings through a microscope. Number of Rings + 1.5 gives the age of abalone in years."
   ]
  },
  {
   "cell_type": "markdown",
   "id": "1441878b",
   "metadata": {
    "papermill": {
     "duration": 0.021781,
     "end_time": "2024-04-19T10:50:41.580673",
     "exception": false,
     "start_time": "2024-04-19T10:50:41.558892",
     "status": "completed"
    },
    "tags": []
   },
   "source": [
    "# <div style=\"font-family:Georgia, serif; color: black;\">Project Objective:</div>\n",
    "The objective of this project is to create an accurate model for predicting the age of abalone by predicting the number of rings."
   ]
  },
  {
   "cell_type": "markdown",
   "id": "f50d25bc",
   "metadata": {
    "papermill": {
     "duration": 0.019218,
     "end_time": "2024-04-19T10:50:41.619497",
     "exception": false,
     "start_time": "2024-04-19T10:50:41.600279",
     "status": "completed"
    },
    "tags": []
   },
   "source": [
    "# <div style=\"font-family:Georgia, serif; color: black;\"> Data Description</div>\n",
    "* Sex : M, F, and I (infant)\n",
    "* Length : Longest shell measurement\n",
    "* Diameter : perpendicular to length\n",
    "* Height : with meat in shell\n",
    "* Whole weight : whole abalone\n",
    "* Shucked weight : weight of meat\n",
    "* Viscera weight: gut weight (after bleeding)\n",
    "* Shell weight : after being dried\n",
    "* Rings : +1.5 gives the age in years"
   ]
  },
  {
   "cell_type": "code",
   "execution_count": 1,
   "id": "e2574015",
   "metadata": {
    "execution": {
     "iopub.execute_input": "2024-04-19T10:50:41.660835Z",
     "iopub.status.busy": "2024-04-19T10:50:41.660410Z",
     "iopub.status.idle": "2024-04-19T10:50:43.545679Z",
     "shell.execute_reply": "2024-04-19T10:50:43.544843Z"
    },
    "papermill": {
     "duration": 1.907759,
     "end_time": "2024-04-19T10:50:43.548096",
     "exception": false,
     "start_time": "2024-04-19T10:50:41.640337",
     "status": "completed"
    },
    "tags": []
   },
   "outputs": [],
   "source": [
    "import warnings\n",
    "warnings.filterwarnings('ignore')\n",
    "import pandas as pd\n",
    "import numpy as np\n",
    "import matplotlib.pyplot as plt\n",
    "import seaborn as sns\n",
    "\n",
    "sns.set(style='whitegrid')"
   ]
  },
  {
   "cell_type": "code",
   "execution_count": 2,
   "id": "68c7e93f",
   "metadata": {
    "execution": {
     "iopub.execute_input": "2024-04-19T10:50:43.585622Z",
     "iopub.status.busy": "2024-04-19T10:50:43.584898Z",
     "iopub.status.idle": "2024-04-19T10:50:43.637091Z",
     "shell.execute_reply": "2024-04-19T10:50:43.636181Z"
    },
    "papermill": {
     "duration": 0.073322,
     "end_time": "2024-04-19T10:50:43.639315",
     "exception": false,
     "start_time": "2024-04-19T10:50:43.565993",
     "status": "completed"
    },
    "tags": []
   },
   "outputs": [
    {
     "data": {
      "text/html": [
       "<div>\n",
       "<style scoped>\n",
       "    .dataframe tbody tr th:only-of-type {\n",
       "        vertical-align: middle;\n",
       "    }\n",
       "\n",
       "    .dataframe tbody tr th {\n",
       "        vertical-align: top;\n",
       "    }\n",
       "\n",
       "    .dataframe thead th {\n",
       "        text-align: right;\n",
       "    }\n",
       "</style>\n",
       "<table border=\"1\" class=\"dataframe\">\n",
       "  <thead>\n",
       "    <tr style=\"text-align: right;\">\n",
       "      <th></th>\n",
       "      <th>Sex</th>\n",
       "      <th>Length</th>\n",
       "      <th>Diameter</th>\n",
       "      <th>Height</th>\n",
       "      <th>Whole_weight</th>\n",
       "      <th>Shucked_weight</th>\n",
       "      <th>Viscera_weight</th>\n",
       "      <th>Shell_weight\\t</th>\n",
       "      <th>Rings</th>\n",
       "    </tr>\n",
       "  </thead>\n",
       "  <tbody>\n",
       "    <tr>\n",
       "      <th>0</th>\n",
       "      <td>M</td>\n",
       "      <td>0.455</td>\n",
       "      <td>0.365</td>\n",
       "      <td>0.095</td>\n",
       "      <td>0.5140</td>\n",
       "      <td>0.2245</td>\n",
       "      <td>0.1010</td>\n",
       "      <td>0.150</td>\n",
       "      <td>15</td>\n",
       "    </tr>\n",
       "    <tr>\n",
       "      <th>1</th>\n",
       "      <td>M</td>\n",
       "      <td>0.350</td>\n",
       "      <td>0.265</td>\n",
       "      <td>0.090</td>\n",
       "      <td>0.2255</td>\n",
       "      <td>0.0995</td>\n",
       "      <td>0.0485</td>\n",
       "      <td>0.070</td>\n",
       "      <td>7</td>\n",
       "    </tr>\n",
       "    <tr>\n",
       "      <th>2</th>\n",
       "      <td>F</td>\n",
       "      <td>0.530</td>\n",
       "      <td>0.420</td>\n",
       "      <td>0.135</td>\n",
       "      <td>0.6770</td>\n",
       "      <td>0.2565</td>\n",
       "      <td>0.1415</td>\n",
       "      <td>0.210</td>\n",
       "      <td>9</td>\n",
       "    </tr>\n",
       "    <tr>\n",
       "      <th>3</th>\n",
       "      <td>M</td>\n",
       "      <td>0.440</td>\n",
       "      <td>0.365</td>\n",
       "      <td>0.125</td>\n",
       "      <td>0.5160</td>\n",
       "      <td>0.2155</td>\n",
       "      <td>0.1140</td>\n",
       "      <td>0.155</td>\n",
       "      <td>10</td>\n",
       "    </tr>\n",
       "    <tr>\n",
       "      <th>4</th>\n",
       "      <td>I</td>\n",
       "      <td>0.330</td>\n",
       "      <td>0.255</td>\n",
       "      <td>0.080</td>\n",
       "      <td>0.2050</td>\n",
       "      <td>0.0895</td>\n",
       "      <td>0.0395</td>\n",
       "      <td>0.055</td>\n",
       "      <td>7</td>\n",
       "    </tr>\n",
       "  </tbody>\n",
       "</table>\n",
       "</div>"
      ],
      "text/plain": [
       "  Sex   Length   Diameter   Height   Whole_weight   Shucked_weight  \\\n",
       "0   M    0.455      0.365    0.095         0.5140           0.2245   \n",
       "1   M    0.350      0.265    0.090         0.2255           0.0995   \n",
       "2   F    0.530      0.420    0.135         0.6770           0.2565   \n",
       "3   M    0.440      0.365    0.125         0.5160           0.2155   \n",
       "4   I    0.330      0.255    0.080         0.2050           0.0895   \n",
       "\n",
       "    Viscera_weight   Shell_weight\\t   Rings  \n",
       "0           0.1010            0.150      15  \n",
       "1           0.0485            0.070       7  \n",
       "2           0.1415            0.210       9  \n",
       "3           0.1140            0.155      10  \n",
       "4           0.0395            0.055       7  "
      ]
     },
     "execution_count": 2,
     "metadata": {},
     "output_type": "execute_result"
    }
   ],
   "source": [
    "df = pd.read_csv('/kaggle/input/abalone-dataset-from-uci/abalone1.data.txt')\n",
    "df.head()"
   ]
  },
  {
   "cell_type": "markdown",
   "id": "780e22b7",
   "metadata": {
    "papermill": {
     "duration": 0.017293,
     "end_time": "2024-04-19T10:50:43.676089",
     "exception": false,
     "start_time": "2024-04-19T10:50:43.658796",
     "status": "completed"
    },
    "tags": []
   },
   "source": [
    "# <div style=\"text-align: center; background-color:#95a5a6; font-family:Georgia, serif; color: black; padding: 20px;line-height: 1;border-radius:5px; border: 2px solid black;\">EDA</div>"
   ]
  },
  {
   "cell_type": "markdown",
   "id": "a84a3492",
   "metadata": {
    "papermill": {
     "duration": 0.017414,
     "end_time": "2024-04-19T10:50:43.711018",
     "exception": false,
     "start_time": "2024-04-19T10:50:43.693604",
     "status": "completed"
    },
    "tags": []
   },
   "source": [
    "# <div style=\"font-family:Georgia, serif; color: black;\">Shape of the dataset</div>"
   ]
  },
  {
   "cell_type": "code",
   "execution_count": 3,
   "id": "70096963",
   "metadata": {
    "execution": {
     "iopub.execute_input": "2024-04-19T10:50:43.747057Z",
     "iopub.status.busy": "2024-04-19T10:50:43.746731Z",
     "iopub.status.idle": "2024-04-19T10:50:43.751449Z",
     "shell.execute_reply": "2024-04-19T10:50:43.750617Z"
    },
    "papermill": {
     "duration": 0.025063,
     "end_time": "2024-04-19T10:50:43.753628",
     "exception": false,
     "start_time": "2024-04-19T10:50:43.728565",
     "status": "completed"
    },
    "tags": []
   },
   "outputs": [
    {
     "name": "stdout",
     "output_type": "stream",
     "text": [
      "Shape :  (4177, 9)\n"
     ]
    }
   ],
   "source": [
    "print('Shape : ',df.shape)"
   ]
  },
  {
   "cell_type": "markdown",
   "id": "57059f3e",
   "metadata": {
    "papermill": {
     "duration": 0.017267,
     "end_time": "2024-04-19T10:50:43.788275",
     "exception": false,
     "start_time": "2024-04-19T10:50:43.771008",
     "status": "completed"
    },
    "tags": []
   },
   "source": [
    "No.of rows : 4177\n",
    "    \n",
    "No.of columns : 9"
   ]
  },
  {
   "cell_type": "markdown",
   "id": "f79a800b",
   "metadata": {
    "papermill": {
     "duration": 0.018681,
     "end_time": "2024-04-19T10:50:43.824662",
     "exception": false,
     "start_time": "2024-04-19T10:50:43.805981",
     "status": "completed"
    },
    "tags": []
   },
   "source": [
    "# <div style=\"font-family:Georgia, serif; color: black;\">Rename columns</div>"
   ]
  },
  {
   "cell_type": "code",
   "execution_count": 4,
   "id": "45abc1d6",
   "metadata": {
    "execution": {
     "iopub.execute_input": "2024-04-19T10:50:43.861256Z",
     "iopub.status.busy": "2024-04-19T10:50:43.860556Z",
     "iopub.status.idle": "2024-04-19T10:50:43.866290Z",
     "shell.execute_reply": "2024-04-19T10:50:43.865449Z"
    },
    "papermill": {
     "duration": 0.025889,
     "end_time": "2024-04-19T10:50:43.868210",
     "exception": false,
     "start_time": "2024-04-19T10:50:43.842321",
     "status": "completed"
    },
    "tags": []
   },
   "outputs": [
    {
     "data": {
      "text/plain": [
       "Index(['Sex', ' Length', ' Diameter', ' Height', ' Whole_weight',\n",
       "       ' Shucked_weight', ' Viscera_weight', ' Shell_weight\\t', ' Rings'],\n",
       "      dtype='object')"
      ]
     },
     "execution_count": 4,
     "metadata": {},
     "output_type": "execute_result"
    }
   ],
   "source": [
    "df.columns"
   ]
  },
  {
   "cell_type": "code",
   "execution_count": 5,
   "id": "d36cebcc",
   "metadata": {
    "execution": {
     "iopub.execute_input": "2024-04-19T10:50:43.905048Z",
     "iopub.status.busy": "2024-04-19T10:50:43.904727Z",
     "iopub.status.idle": "2024-04-19T10:50:43.910012Z",
     "shell.execute_reply": "2024-04-19T10:50:43.909057Z"
    },
    "papermill": {
     "duration": 0.025685,
     "end_time": "2024-04-19T10:50:43.911894",
     "exception": false,
     "start_time": "2024-04-19T10:50:43.886209",
     "status": "completed"
    },
    "tags": []
   },
   "outputs": [],
   "source": [
    "df.rename(columns={' Length': 'Length',' Diameter':'Diameter',' Height':'Height',' Whole_weight':'Whole_weight',' Shucked_weight':'Shucked_weight',' Viscera_weight':'Viscera_weight',' Shell_weight\\t':'Shell_weight',' Rings':'Rings'}, inplace=True)\n"
   ]
  },
  {
   "cell_type": "code",
   "execution_count": 6,
   "id": "988eff26",
   "metadata": {
    "execution": {
     "iopub.execute_input": "2024-04-19T10:50:43.948994Z",
     "iopub.status.busy": "2024-04-19T10:50:43.948315Z",
     "iopub.status.idle": "2024-04-19T10:50:43.962830Z",
     "shell.execute_reply": "2024-04-19T10:50:43.961949Z"
    },
    "papermill": {
     "duration": 0.035321,
     "end_time": "2024-04-19T10:50:43.964685",
     "exception": false,
     "start_time": "2024-04-19T10:50:43.929364",
     "status": "completed"
    },
    "tags": []
   },
   "outputs": [
    {
     "data": {
      "text/html": [
       "<div>\n",
       "<style scoped>\n",
       "    .dataframe tbody tr th:only-of-type {\n",
       "        vertical-align: middle;\n",
       "    }\n",
       "\n",
       "    .dataframe tbody tr th {\n",
       "        vertical-align: top;\n",
       "    }\n",
       "\n",
       "    .dataframe thead th {\n",
       "        text-align: right;\n",
       "    }\n",
       "</style>\n",
       "<table border=\"1\" class=\"dataframe\">\n",
       "  <thead>\n",
       "    <tr style=\"text-align: right;\">\n",
       "      <th></th>\n",
       "      <th>Sex</th>\n",
       "      <th>Length</th>\n",
       "      <th>Diameter</th>\n",
       "      <th>Height</th>\n",
       "      <th>Whole_weight</th>\n",
       "      <th>Shucked_weight</th>\n",
       "      <th>Viscera_weight</th>\n",
       "      <th>Shell_weight</th>\n",
       "      <th>Rings</th>\n",
       "    </tr>\n",
       "  </thead>\n",
       "  <tbody>\n",
       "    <tr>\n",
       "      <th>0</th>\n",
       "      <td>M</td>\n",
       "      <td>0.455</td>\n",
       "      <td>0.365</td>\n",
       "      <td>0.095</td>\n",
       "      <td>0.5140</td>\n",
       "      <td>0.2245</td>\n",
       "      <td>0.1010</td>\n",
       "      <td>0.150</td>\n",
       "      <td>15</td>\n",
       "    </tr>\n",
       "    <tr>\n",
       "      <th>1</th>\n",
       "      <td>M</td>\n",
       "      <td>0.350</td>\n",
       "      <td>0.265</td>\n",
       "      <td>0.090</td>\n",
       "      <td>0.2255</td>\n",
       "      <td>0.0995</td>\n",
       "      <td>0.0485</td>\n",
       "      <td>0.070</td>\n",
       "      <td>7</td>\n",
       "    </tr>\n",
       "    <tr>\n",
       "      <th>2</th>\n",
       "      <td>F</td>\n",
       "      <td>0.530</td>\n",
       "      <td>0.420</td>\n",
       "      <td>0.135</td>\n",
       "      <td>0.6770</td>\n",
       "      <td>0.2565</td>\n",
       "      <td>0.1415</td>\n",
       "      <td>0.210</td>\n",
       "      <td>9</td>\n",
       "    </tr>\n",
       "    <tr>\n",
       "      <th>3</th>\n",
       "      <td>M</td>\n",
       "      <td>0.440</td>\n",
       "      <td>0.365</td>\n",
       "      <td>0.125</td>\n",
       "      <td>0.5160</td>\n",
       "      <td>0.2155</td>\n",
       "      <td>0.1140</td>\n",
       "      <td>0.155</td>\n",
       "      <td>10</td>\n",
       "    </tr>\n",
       "    <tr>\n",
       "      <th>4</th>\n",
       "      <td>I</td>\n",
       "      <td>0.330</td>\n",
       "      <td>0.255</td>\n",
       "      <td>0.080</td>\n",
       "      <td>0.2050</td>\n",
       "      <td>0.0895</td>\n",
       "      <td>0.0395</td>\n",
       "      <td>0.055</td>\n",
       "      <td>7</td>\n",
       "    </tr>\n",
       "  </tbody>\n",
       "</table>\n",
       "</div>"
      ],
      "text/plain": [
       "  Sex  Length  Diameter  Height  Whole_weight  Shucked_weight  Viscera_weight  \\\n",
       "0   M   0.455     0.365   0.095        0.5140          0.2245          0.1010   \n",
       "1   M   0.350     0.265   0.090        0.2255          0.0995          0.0485   \n",
       "2   F   0.530     0.420   0.135        0.6770          0.2565          0.1415   \n",
       "3   M   0.440     0.365   0.125        0.5160          0.2155          0.1140   \n",
       "4   I   0.330     0.255   0.080        0.2050          0.0895          0.0395   \n",
       "\n",
       "   Shell_weight  Rings  \n",
       "0         0.150     15  \n",
       "1         0.070      7  \n",
       "2         0.210      9  \n",
       "3         0.155     10  \n",
       "4         0.055      7  "
      ]
     },
     "execution_count": 6,
     "metadata": {},
     "output_type": "execute_result"
    }
   ],
   "source": [
    "df.head()"
   ]
  },
  {
   "cell_type": "markdown",
   "id": "1d22d962",
   "metadata": {
    "papermill": {
     "duration": 0.018015,
     "end_time": "2024-04-19T10:50:44.000436",
     "exception": false,
     "start_time": "2024-04-19T10:50:43.982421",
     "status": "completed"
    },
    "tags": []
   },
   "source": [
    "# <div style=\"text-align: center; background-color:#95a5a6; font-family:Georgia, serif; color: black; padding: 20px;line-height: 1;border-radius:5px; border: 2px solid black;\">Basic info about our data</div>"
   ]
  },
  {
   "cell_type": "code",
   "execution_count": 7,
   "id": "f00b1f1d",
   "metadata": {
    "execution": {
     "iopub.execute_input": "2024-04-19T10:50:44.038466Z",
     "iopub.status.busy": "2024-04-19T10:50:44.037941Z",
     "iopub.status.idle": "2024-04-19T10:50:44.059261Z",
     "shell.execute_reply": "2024-04-19T10:50:44.058232Z"
    },
    "papermill": {
     "duration": 0.042559,
     "end_time": "2024-04-19T10:50:44.061489",
     "exception": false,
     "start_time": "2024-04-19T10:50:44.018930",
     "status": "completed"
    },
    "tags": []
   },
   "outputs": [
    {
     "name": "stdout",
     "output_type": "stream",
     "text": [
      "<class 'pandas.core.frame.DataFrame'>\n",
      "RangeIndex: 4177 entries, 0 to 4176\n",
      "Data columns (total 9 columns):\n",
      " #   Column          Non-Null Count  Dtype  \n",
      "---  ------          --------------  -----  \n",
      " 0   Sex             4177 non-null   object \n",
      " 1   Length          4177 non-null   float64\n",
      " 2   Diameter        4177 non-null   float64\n",
      " 3   Height          4177 non-null   float64\n",
      " 4   Whole_weight    4177 non-null   float64\n",
      " 5   Shucked_weight  4177 non-null   float64\n",
      " 6   Viscera_weight  4177 non-null   float64\n",
      " 7   Shell_weight    4177 non-null   float64\n",
      " 8   Rings           4177 non-null   int64  \n",
      "dtypes: float64(7), int64(1), object(1)\n",
      "memory usage: 293.8+ KB\n"
     ]
    }
   ],
   "source": [
    "df.info()"
   ]
  },
  {
   "cell_type": "code",
   "execution_count": 8,
   "id": "054d0c08",
   "metadata": {
    "execution": {
     "iopub.execute_input": "2024-04-19T10:50:44.103425Z",
     "iopub.status.busy": "2024-04-19T10:50:44.102922Z",
     "iopub.status.idle": "2024-04-19T10:50:44.135082Z",
     "shell.execute_reply": "2024-04-19T10:50:44.134129Z"
    },
    "papermill": {
     "duration": 0.053709,
     "end_time": "2024-04-19T10:50:44.137108",
     "exception": false,
     "start_time": "2024-04-19T10:50:44.083399",
     "status": "completed"
    },
    "tags": []
   },
   "outputs": [
    {
     "data": {
      "text/html": [
       "<div>\n",
       "<style scoped>\n",
       "    .dataframe tbody tr th:only-of-type {\n",
       "        vertical-align: middle;\n",
       "    }\n",
       "\n",
       "    .dataframe tbody tr th {\n",
       "        vertical-align: top;\n",
       "    }\n",
       "\n",
       "    .dataframe thead th {\n",
       "        text-align: right;\n",
       "    }\n",
       "</style>\n",
       "<table border=\"1\" class=\"dataframe\">\n",
       "  <thead>\n",
       "    <tr style=\"text-align: right;\">\n",
       "      <th></th>\n",
       "      <th>Length</th>\n",
       "      <th>Diameter</th>\n",
       "      <th>Height</th>\n",
       "      <th>Whole_weight</th>\n",
       "      <th>Shucked_weight</th>\n",
       "      <th>Viscera_weight</th>\n",
       "      <th>Shell_weight</th>\n",
       "      <th>Rings</th>\n",
       "    </tr>\n",
       "  </thead>\n",
       "  <tbody>\n",
       "    <tr>\n",
       "      <th>count</th>\n",
       "      <td>4177.000000</td>\n",
       "      <td>4177.000000</td>\n",
       "      <td>4177.000000</td>\n",
       "      <td>4177.000000</td>\n",
       "      <td>4177.000000</td>\n",
       "      <td>4177.000000</td>\n",
       "      <td>4177.000000</td>\n",
       "      <td>4177.000000</td>\n",
       "    </tr>\n",
       "    <tr>\n",
       "      <th>mean</th>\n",
       "      <td>0.523992</td>\n",
       "      <td>0.407881</td>\n",
       "      <td>0.139516</td>\n",
       "      <td>0.828742</td>\n",
       "      <td>0.359367</td>\n",
       "      <td>0.180594</td>\n",
       "      <td>0.238831</td>\n",
       "      <td>9.933684</td>\n",
       "    </tr>\n",
       "    <tr>\n",
       "      <th>std</th>\n",
       "      <td>0.120093</td>\n",
       "      <td>0.099240</td>\n",
       "      <td>0.041827</td>\n",
       "      <td>0.490389</td>\n",
       "      <td>0.221963</td>\n",
       "      <td>0.109614</td>\n",
       "      <td>0.139203</td>\n",
       "      <td>3.224169</td>\n",
       "    </tr>\n",
       "    <tr>\n",
       "      <th>min</th>\n",
       "      <td>0.075000</td>\n",
       "      <td>0.055000</td>\n",
       "      <td>0.000000</td>\n",
       "      <td>0.002000</td>\n",
       "      <td>0.001000</td>\n",
       "      <td>0.000500</td>\n",
       "      <td>0.001500</td>\n",
       "      <td>1.000000</td>\n",
       "    </tr>\n",
       "    <tr>\n",
       "      <th>25%</th>\n",
       "      <td>0.450000</td>\n",
       "      <td>0.350000</td>\n",
       "      <td>0.115000</td>\n",
       "      <td>0.441500</td>\n",
       "      <td>0.186000</td>\n",
       "      <td>0.093500</td>\n",
       "      <td>0.130000</td>\n",
       "      <td>8.000000</td>\n",
       "    </tr>\n",
       "    <tr>\n",
       "      <th>50%</th>\n",
       "      <td>0.545000</td>\n",
       "      <td>0.425000</td>\n",
       "      <td>0.140000</td>\n",
       "      <td>0.799500</td>\n",
       "      <td>0.336000</td>\n",
       "      <td>0.171000</td>\n",
       "      <td>0.234000</td>\n",
       "      <td>9.000000</td>\n",
       "    </tr>\n",
       "    <tr>\n",
       "      <th>75%</th>\n",
       "      <td>0.615000</td>\n",
       "      <td>0.480000</td>\n",
       "      <td>0.165000</td>\n",
       "      <td>1.153000</td>\n",
       "      <td>0.502000</td>\n",
       "      <td>0.253000</td>\n",
       "      <td>0.329000</td>\n",
       "      <td>11.000000</td>\n",
       "    </tr>\n",
       "    <tr>\n",
       "      <th>max</th>\n",
       "      <td>0.815000</td>\n",
       "      <td>0.650000</td>\n",
       "      <td>1.130000</td>\n",
       "      <td>2.825500</td>\n",
       "      <td>1.488000</td>\n",
       "      <td>0.760000</td>\n",
       "      <td>1.005000</td>\n",
       "      <td>29.000000</td>\n",
       "    </tr>\n",
       "  </tbody>\n",
       "</table>\n",
       "</div>"
      ],
      "text/plain": [
       "            Length     Diameter       Height  Whole_weight  Shucked_weight  \\\n",
       "count  4177.000000  4177.000000  4177.000000   4177.000000     4177.000000   \n",
       "mean      0.523992     0.407881     0.139516      0.828742        0.359367   \n",
       "std       0.120093     0.099240     0.041827      0.490389        0.221963   \n",
       "min       0.075000     0.055000     0.000000      0.002000        0.001000   \n",
       "25%       0.450000     0.350000     0.115000      0.441500        0.186000   \n",
       "50%       0.545000     0.425000     0.140000      0.799500        0.336000   \n",
       "75%       0.615000     0.480000     0.165000      1.153000        0.502000   \n",
       "max       0.815000     0.650000     1.130000      2.825500        1.488000   \n",
       "\n",
       "       Viscera_weight  Shell_weight        Rings  \n",
       "count     4177.000000   4177.000000  4177.000000  \n",
       "mean         0.180594      0.238831     9.933684  \n",
       "std          0.109614      0.139203     3.224169  \n",
       "min          0.000500      0.001500     1.000000  \n",
       "25%          0.093500      0.130000     8.000000  \n",
       "50%          0.171000      0.234000     9.000000  \n",
       "75%          0.253000      0.329000    11.000000  \n",
       "max          0.760000      1.005000    29.000000  "
      ]
     },
     "execution_count": 8,
     "metadata": {},
     "output_type": "execute_result"
    }
   ],
   "source": [
    "df.describe()"
   ]
  },
  {
   "cell_type": "code",
   "execution_count": 9,
   "id": "6089219b",
   "metadata": {
    "execution": {
     "iopub.execute_input": "2024-04-19T10:50:44.174262Z",
     "iopub.status.busy": "2024-04-19T10:50:44.174018Z",
     "iopub.status.idle": "2024-04-19T10:50:44.209018Z",
     "shell.execute_reply": "2024-04-19T10:50:44.208109Z"
    },
    "papermill": {
     "duration": 0.055747,
     "end_time": "2024-04-19T10:50:44.210949",
     "exception": false,
     "start_time": "2024-04-19T10:50:44.155202",
     "status": "completed"
    },
    "tags": []
   },
   "outputs": [
    {
     "data": {
      "text/html": [
       "<div>\n",
       "<style scoped>\n",
       "    .dataframe tbody tr th:only-of-type {\n",
       "        vertical-align: middle;\n",
       "    }\n",
       "\n",
       "    .dataframe tbody tr th {\n",
       "        vertical-align: top;\n",
       "    }\n",
       "\n",
       "    .dataframe thead th {\n",
       "        text-align: right;\n",
       "    }\n",
       "</style>\n",
       "<table border=\"1\" class=\"dataframe\">\n",
       "  <thead>\n",
       "    <tr style=\"text-align: right;\">\n",
       "      <th></th>\n",
       "      <th>Sex</th>\n",
       "      <th>Length</th>\n",
       "      <th>Diameter</th>\n",
       "      <th>Height</th>\n",
       "      <th>Whole_weight</th>\n",
       "      <th>Shucked_weight</th>\n",
       "      <th>Viscera_weight</th>\n",
       "      <th>Shell_weight</th>\n",
       "      <th>Rings</th>\n",
       "    </tr>\n",
       "  </thead>\n",
       "  <tbody>\n",
       "    <tr>\n",
       "      <th>count</th>\n",
       "      <td>4177</td>\n",
       "      <td>4177.000000</td>\n",
       "      <td>4177.000000</td>\n",
       "      <td>4177.000000</td>\n",
       "      <td>4177.000000</td>\n",
       "      <td>4177.000000</td>\n",
       "      <td>4177.000000</td>\n",
       "      <td>4177.000000</td>\n",
       "      <td>4177.000000</td>\n",
       "    </tr>\n",
       "    <tr>\n",
       "      <th>unique</th>\n",
       "      <td>3</td>\n",
       "      <td>NaN</td>\n",
       "      <td>NaN</td>\n",
       "      <td>NaN</td>\n",
       "      <td>NaN</td>\n",
       "      <td>NaN</td>\n",
       "      <td>NaN</td>\n",
       "      <td>NaN</td>\n",
       "      <td>NaN</td>\n",
       "    </tr>\n",
       "    <tr>\n",
       "      <th>top</th>\n",
       "      <td>M</td>\n",
       "      <td>NaN</td>\n",
       "      <td>NaN</td>\n",
       "      <td>NaN</td>\n",
       "      <td>NaN</td>\n",
       "      <td>NaN</td>\n",
       "      <td>NaN</td>\n",
       "      <td>NaN</td>\n",
       "      <td>NaN</td>\n",
       "    </tr>\n",
       "    <tr>\n",
       "      <th>freq</th>\n",
       "      <td>1528</td>\n",
       "      <td>NaN</td>\n",
       "      <td>NaN</td>\n",
       "      <td>NaN</td>\n",
       "      <td>NaN</td>\n",
       "      <td>NaN</td>\n",
       "      <td>NaN</td>\n",
       "      <td>NaN</td>\n",
       "      <td>NaN</td>\n",
       "    </tr>\n",
       "    <tr>\n",
       "      <th>mean</th>\n",
       "      <td>NaN</td>\n",
       "      <td>0.523992</td>\n",
       "      <td>0.407881</td>\n",
       "      <td>0.139516</td>\n",
       "      <td>0.828742</td>\n",
       "      <td>0.359367</td>\n",
       "      <td>0.180594</td>\n",
       "      <td>0.238831</td>\n",
       "      <td>9.933684</td>\n",
       "    </tr>\n",
       "    <tr>\n",
       "      <th>std</th>\n",
       "      <td>NaN</td>\n",
       "      <td>0.120093</td>\n",
       "      <td>0.099240</td>\n",
       "      <td>0.041827</td>\n",
       "      <td>0.490389</td>\n",
       "      <td>0.221963</td>\n",
       "      <td>0.109614</td>\n",
       "      <td>0.139203</td>\n",
       "      <td>3.224169</td>\n",
       "    </tr>\n",
       "    <tr>\n",
       "      <th>min</th>\n",
       "      <td>NaN</td>\n",
       "      <td>0.075000</td>\n",
       "      <td>0.055000</td>\n",
       "      <td>0.000000</td>\n",
       "      <td>0.002000</td>\n",
       "      <td>0.001000</td>\n",
       "      <td>0.000500</td>\n",
       "      <td>0.001500</td>\n",
       "      <td>1.000000</td>\n",
       "    </tr>\n",
       "    <tr>\n",
       "      <th>25%</th>\n",
       "      <td>NaN</td>\n",
       "      <td>0.450000</td>\n",
       "      <td>0.350000</td>\n",
       "      <td>0.115000</td>\n",
       "      <td>0.441500</td>\n",
       "      <td>0.186000</td>\n",
       "      <td>0.093500</td>\n",
       "      <td>0.130000</td>\n",
       "      <td>8.000000</td>\n",
       "    </tr>\n",
       "    <tr>\n",
       "      <th>50%</th>\n",
       "      <td>NaN</td>\n",
       "      <td>0.545000</td>\n",
       "      <td>0.425000</td>\n",
       "      <td>0.140000</td>\n",
       "      <td>0.799500</td>\n",
       "      <td>0.336000</td>\n",
       "      <td>0.171000</td>\n",
       "      <td>0.234000</td>\n",
       "      <td>9.000000</td>\n",
       "    </tr>\n",
       "    <tr>\n",
       "      <th>75%</th>\n",
       "      <td>NaN</td>\n",
       "      <td>0.615000</td>\n",
       "      <td>0.480000</td>\n",
       "      <td>0.165000</td>\n",
       "      <td>1.153000</td>\n",
       "      <td>0.502000</td>\n",
       "      <td>0.253000</td>\n",
       "      <td>0.329000</td>\n",
       "      <td>11.000000</td>\n",
       "    </tr>\n",
       "    <tr>\n",
       "      <th>max</th>\n",
       "      <td>NaN</td>\n",
       "      <td>0.815000</td>\n",
       "      <td>0.650000</td>\n",
       "      <td>1.130000</td>\n",
       "      <td>2.825500</td>\n",
       "      <td>1.488000</td>\n",
       "      <td>0.760000</td>\n",
       "      <td>1.005000</td>\n",
       "      <td>29.000000</td>\n",
       "    </tr>\n",
       "  </tbody>\n",
       "</table>\n",
       "</div>"
      ],
      "text/plain": [
       "         Sex       Length     Diameter       Height  Whole_weight  \\\n",
       "count   4177  4177.000000  4177.000000  4177.000000   4177.000000   \n",
       "unique     3          NaN          NaN          NaN           NaN   \n",
       "top        M          NaN          NaN          NaN           NaN   \n",
       "freq    1528          NaN          NaN          NaN           NaN   \n",
       "mean     NaN     0.523992     0.407881     0.139516      0.828742   \n",
       "std      NaN     0.120093     0.099240     0.041827      0.490389   \n",
       "min      NaN     0.075000     0.055000     0.000000      0.002000   \n",
       "25%      NaN     0.450000     0.350000     0.115000      0.441500   \n",
       "50%      NaN     0.545000     0.425000     0.140000      0.799500   \n",
       "75%      NaN     0.615000     0.480000     0.165000      1.153000   \n",
       "max      NaN     0.815000     0.650000     1.130000      2.825500   \n",
       "\n",
       "        Shucked_weight  Viscera_weight  Shell_weight        Rings  \n",
       "count      4177.000000     4177.000000   4177.000000  4177.000000  \n",
       "unique             NaN             NaN           NaN          NaN  \n",
       "top                NaN             NaN           NaN          NaN  \n",
       "freq               NaN             NaN           NaN          NaN  \n",
       "mean          0.359367        0.180594      0.238831     9.933684  \n",
       "std           0.221963        0.109614      0.139203     3.224169  \n",
       "min           0.001000        0.000500      0.001500     1.000000  \n",
       "25%           0.186000        0.093500      0.130000     8.000000  \n",
       "50%           0.336000        0.171000      0.234000     9.000000  \n",
       "75%           0.502000        0.253000      0.329000    11.000000  \n",
       "max           1.488000        0.760000      1.005000    29.000000  "
      ]
     },
     "execution_count": 9,
     "metadata": {},
     "output_type": "execute_result"
    }
   ],
   "source": [
    "df.describe(include='all')"
   ]
  },
  {
   "cell_type": "code",
   "execution_count": 10,
   "id": "01c24f43",
   "metadata": {
    "execution": {
     "iopub.execute_input": "2024-04-19T10:50:44.249777Z",
     "iopub.status.busy": "2024-04-19T10:50:44.249517Z",
     "iopub.status.idle": "2024-04-19T10:50:44.256088Z",
     "shell.execute_reply": "2024-04-19T10:50:44.255209Z"
    },
    "papermill": {
     "duration": 0.028352,
     "end_time": "2024-04-19T10:50:44.258361",
     "exception": false,
     "start_time": "2024-04-19T10:50:44.230009",
     "status": "completed"
    },
    "tags": []
   },
   "outputs": [
    {
     "data": {
      "text/plain": [
       "Sex                object\n",
       "Length            float64\n",
       "Diameter          float64\n",
       "Height            float64\n",
       "Whole_weight      float64\n",
       "Shucked_weight    float64\n",
       "Viscera_weight    float64\n",
       "Shell_weight      float64\n",
       "Rings               int64\n",
       "dtype: object"
      ]
     },
     "execution_count": 10,
     "metadata": {},
     "output_type": "execute_result"
    }
   ],
   "source": [
    "df.dtypes"
   ]
  },
  {
   "cell_type": "markdown",
   "id": "70ffc01c",
   "metadata": {
    "papermill": {
     "duration": 0.062608,
     "end_time": "2024-04-19T10:50:44.340418",
     "exception": false,
     "start_time": "2024-04-19T10:50:44.277810",
     "status": "completed"
    },
    "tags": []
   },
   "source": [
    "# <div style=\"font-family:Georgia, serif; color: black;\">Checking for missing values</div>"
   ]
  },
  {
   "cell_type": "code",
   "execution_count": 11,
   "id": "54eb1480",
   "metadata": {
    "execution": {
     "iopub.execute_input": "2024-04-19T10:50:44.380399Z",
     "iopub.status.busy": "2024-04-19T10:50:44.379606Z",
     "iopub.status.idle": "2024-04-19T10:50:44.387588Z",
     "shell.execute_reply": "2024-04-19T10:50:44.386759Z"
    },
    "papermill": {
     "duration": 0.029835,
     "end_time": "2024-04-19T10:50:44.389477",
     "exception": false,
     "start_time": "2024-04-19T10:50:44.359642",
     "status": "completed"
    },
    "tags": []
   },
   "outputs": [
    {
     "data": {
      "text/plain": [
       "Sex               0\n",
       "Length            0\n",
       "Diameter          0\n",
       "Height            0\n",
       "Whole_weight      0\n",
       "Shucked_weight    0\n",
       "Viscera_weight    0\n",
       "Shell_weight      0\n",
       "Rings             0\n",
       "dtype: int64"
      ]
     },
     "execution_count": 11,
     "metadata": {},
     "output_type": "execute_result"
    }
   ],
   "source": [
    "df.isnull().sum()"
   ]
  },
  {
   "cell_type": "code",
   "execution_count": 12,
   "id": "e40f92fe",
   "metadata": {
    "execution": {
     "iopub.execute_input": "2024-04-19T10:50:44.429500Z",
     "iopub.status.busy": "2024-04-19T10:50:44.429218Z",
     "iopub.status.idle": "2024-04-19T10:50:44.434986Z",
     "shell.execute_reply": "2024-04-19T10:50:44.434006Z"
    },
    "papermill": {
     "duration": 0.028649,
     "end_time": "2024-04-19T10:50:44.436998",
     "exception": false,
     "start_time": "2024-04-19T10:50:44.408349",
     "status": "completed"
    },
    "tags": []
   },
   "outputs": [],
   "source": [
    "assert pd.notnull(df).all().all()"
   ]
  },
  {
   "cell_type": "markdown",
   "id": "7bf4c2f2",
   "metadata": {
    "papermill": {
     "duration": 0.019095,
     "end_time": "2024-04-19T10:50:44.475337",
     "exception": false,
     "start_time": "2024-04-19T10:50:44.456242",
     "status": "completed"
    },
    "tags": []
   },
   "source": [
    "There is no missing values or null values in the dataset"
   ]
  },
  {
   "cell_type": "code",
   "execution_count": 13,
   "id": "be0ba690",
   "metadata": {
    "execution": {
     "iopub.execute_input": "2024-04-19T10:50:44.514377Z",
     "iopub.status.busy": "2024-04-19T10:50:44.514081Z",
     "iopub.status.idle": "2024-04-19T10:50:44.519680Z",
     "shell.execute_reply": "2024-04-19T10:50:44.518702Z"
    },
    "papermill": {
     "duration": 0.027487,
     "end_time": "2024-04-19T10:50:44.521692",
     "exception": false,
     "start_time": "2024-04-19T10:50:44.494205",
     "status": "completed"
    },
    "tags": []
   },
   "outputs": [
    {
     "name": "stdout",
     "output_type": "stream",
     "text": [
      "Unique values of Sex :  ['M' 'F' 'I']\n"
     ]
    }
   ],
   "source": [
    "print('Unique values of Sex : ',df['Sex'].unique())"
   ]
  },
  {
   "cell_type": "markdown",
   "id": "af6a1dfd",
   "metadata": {
    "papermill": {
     "duration": 0.019335,
     "end_time": "2024-04-19T10:50:44.560302",
     "exception": false,
     "start_time": "2024-04-19T10:50:44.540967",
     "status": "completed"
    },
    "tags": []
   },
   "source": [
    "* #### There are 3 categories : Male , Female , Infant"
   ]
  },
  {
   "cell_type": "code",
   "execution_count": 14,
   "id": "e675f12a",
   "metadata": {
    "execution": {
     "iopub.execute_input": "2024-04-19T10:50:44.600537Z",
     "iopub.status.busy": "2024-04-19T10:50:44.600233Z",
     "iopub.status.idle": "2024-04-19T10:50:44.619194Z",
     "shell.execute_reply": "2024-04-19T10:50:44.618439Z"
    },
    "papermill": {
     "duration": 0.041679,
     "end_time": "2024-04-19T10:50:44.621220",
     "exception": false,
     "start_time": "2024-04-19T10:50:44.579541",
     "status": "completed"
    },
    "tags": []
   },
   "outputs": [
    {
     "name": "stdout",
     "output_type": "stream",
     "text": [
      "['Length', 'Diameter', 'Height', 'Whole_weight', 'Shucked_weight', 'Viscera_weight', 'Shell_weight', 'Rings']\n"
     ]
    },
    {
     "data": {
      "text/html": [
       "<div>\n",
       "<style scoped>\n",
       "    .dataframe tbody tr th:only-of-type {\n",
       "        vertical-align: middle;\n",
       "    }\n",
       "\n",
       "    .dataframe tbody tr th {\n",
       "        vertical-align: top;\n",
       "    }\n",
       "\n",
       "    .dataframe thead th {\n",
       "        text-align: right;\n",
       "    }\n",
       "</style>\n",
       "<table border=\"1\" class=\"dataframe\">\n",
       "  <thead>\n",
       "    <tr style=\"text-align: right;\">\n",
       "      <th></th>\n",
       "      <th>Length</th>\n",
       "      <th>Diameter</th>\n",
       "      <th>Height</th>\n",
       "      <th>Whole_weight</th>\n",
       "      <th>Shucked_weight</th>\n",
       "      <th>Viscera_weight</th>\n",
       "      <th>Shell_weight</th>\n",
       "      <th>Rings</th>\n",
       "    </tr>\n",
       "  </thead>\n",
       "  <tbody>\n",
       "    <tr>\n",
       "      <th>0</th>\n",
       "      <td>0.455</td>\n",
       "      <td>0.365</td>\n",
       "      <td>0.095</td>\n",
       "      <td>0.5140</td>\n",
       "      <td>0.2245</td>\n",
       "      <td>0.1010</td>\n",
       "      <td>0.150</td>\n",
       "      <td>15</td>\n",
       "    </tr>\n",
       "    <tr>\n",
       "      <th>1</th>\n",
       "      <td>0.350</td>\n",
       "      <td>0.265</td>\n",
       "      <td>0.090</td>\n",
       "      <td>0.2255</td>\n",
       "      <td>0.0995</td>\n",
       "      <td>0.0485</td>\n",
       "      <td>0.070</td>\n",
       "      <td>7</td>\n",
       "    </tr>\n",
       "    <tr>\n",
       "      <th>2</th>\n",
       "      <td>0.530</td>\n",
       "      <td>0.420</td>\n",
       "      <td>0.135</td>\n",
       "      <td>0.6770</td>\n",
       "      <td>0.2565</td>\n",
       "      <td>0.1415</td>\n",
       "      <td>0.210</td>\n",
       "      <td>9</td>\n",
       "    </tr>\n",
       "    <tr>\n",
       "      <th>3</th>\n",
       "      <td>0.440</td>\n",
       "      <td>0.365</td>\n",
       "      <td>0.125</td>\n",
       "      <td>0.5160</td>\n",
       "      <td>0.2155</td>\n",
       "      <td>0.1140</td>\n",
       "      <td>0.155</td>\n",
       "      <td>10</td>\n",
       "    </tr>\n",
       "    <tr>\n",
       "      <th>4</th>\n",
       "      <td>0.330</td>\n",
       "      <td>0.255</td>\n",
       "      <td>0.080</td>\n",
       "      <td>0.2050</td>\n",
       "      <td>0.0895</td>\n",
       "      <td>0.0395</td>\n",
       "      <td>0.055</td>\n",
       "      <td>7</td>\n",
       "    </tr>\n",
       "  </tbody>\n",
       "</table>\n",
       "</div>"
      ],
      "text/plain": [
       "   Length  Diameter  Height  Whole_weight  Shucked_weight  Viscera_weight  \\\n",
       "0   0.455     0.365   0.095        0.5140          0.2245          0.1010   \n",
       "1   0.350     0.265   0.090        0.2255          0.0995          0.0485   \n",
       "2   0.530     0.420   0.135        0.6770          0.2565          0.1415   \n",
       "3   0.440     0.365   0.125        0.5160          0.2155          0.1140   \n",
       "4   0.330     0.255   0.080        0.2050          0.0895          0.0395   \n",
       "\n",
       "   Shell_weight  Rings  \n",
       "0         0.150     15  \n",
       "1         0.070      7  \n",
       "2         0.210      9  \n",
       "3         0.155     10  \n",
       "4         0.055      7  "
      ]
     },
     "execution_count": 14,
     "metadata": {},
     "output_type": "execute_result"
    }
   ],
   "source": [
    "numerical = [ var for var in df.columns if df[var].dtype !='O']\n",
    "\n",
    "print(numerical)\n",
    "\n",
    "df[numerical].head()"
   ]
  },
  {
   "cell_type": "markdown",
   "id": "197328e6",
   "metadata": {
    "papermill": {
     "duration": 0.021143,
     "end_time": "2024-04-19T10:50:44.662712",
     "exception": false,
     "start_time": "2024-04-19T10:50:44.641569",
     "status": "completed"
    },
    "tags": []
   },
   "source": [
    "# <div style=\"text-align: center; background-color:#95a5a6; font-family:Georgia, serif; color: black; padding: 20px;line-height: 1;border-radius:5px; border: 2px solid black;\">Visualization of data</div>"
   ]
  },
  {
   "cell_type": "code",
   "execution_count": 15,
   "id": "fd3e9b40",
   "metadata": {
    "execution": {
     "iopub.execute_input": "2024-04-19T10:50:44.702505Z",
     "iopub.status.busy": "2024-04-19T10:50:44.702218Z",
     "iopub.status.idle": "2024-04-19T10:50:45.242842Z",
     "shell.execute_reply": "2024-04-19T10:50:45.241933Z"
    },
    "papermill": {
     "duration": 0.563029,
     "end_time": "2024-04-19T10:50:45.245101",
     "exception": false,
     "start_time": "2024-04-19T10:50:44.682072",
     "status": "completed"
    },
    "tags": []
   },
   "outputs": [
    {
     "data": {
      "image/png": "[encoded data removed]",
      "text/plain": [
       "<Figure size 640x480 with 1 Axes>"
      ]
     },
     "metadata": {},
     "output_type": "display_data"
    }
   ],
   "source": [
    "# Calculate the average number of rings for each sex category\n",
    "avg_rings_per_sex = df.groupby('Sex')['Rings'].mean().reset_index()\n",
    "\n",
    "# Plot the bar plot\n",
    "sns.barplot(x='Sex', y='Rings', data=df)\n",
    "\n",
    "# Plot the average number of rings as a horizontal line\n",
    "for index, row in avg_rings_per_sex.iterrows():\n",
    "    plt.axhline(y=row['Rings'], color='r', linestyle='--', label=f'Average Rings of {row[\"Sex\"]} ({row[\"Rings\"]:.2f})')\n",
    "\n",
    "\n",
    "# Show the plot\n",
    "plt.legend()\n",
    "plt.show()\n"
   ]
  },
  {
   "cell_type": "markdown",
   "id": "95560575",
   "metadata": {
    "papermill": {
     "duration": 0.021379,
     "end_time": "2024-04-19T10:50:45.287038",
     "exception": false,
     "start_time": "2024-04-19T10:50:45.265659",
     "status": "completed"
    },
    "tags": []
   },
   "source": [
    "* #### From the figure, we can observe that the average number of rings for female abalones is greater than that for males."
   ]
  },
  {
   "cell_type": "code",
   "execution_count": 16,
   "id": "d9d70523",
   "metadata": {
    "execution": {
     "iopub.execute_input": "2024-04-19T10:50:45.330772Z",
     "iopub.status.busy": "2024-04-19T10:50:45.330417Z",
     "iopub.status.idle": "2024-04-19T10:50:46.166748Z",
     "shell.execute_reply": "2024-04-19T10:50:46.165780Z"
    },
    "papermill": {
     "duration": 0.860477,
     "end_time": "2024-04-19T10:50:46.169250",
     "exception": false,
     "start_time": "2024-04-19T10:50:45.308773",
     "status": "completed"
    },
    "tags": []
   },
   "outputs": [
    {
     "data": {
      "image/png": "[encoded data removed]",
      "text/plain": [
       "<Figure size 1500x700 with 1 Axes>"
      ]
     },
     "metadata": {},
     "output_type": "display_data"
    }
   ],
   "source": [
    "# Calculate the maximum number of rings for each height\n",
    "max_rings_per_height = df.groupby('Height')['Rings'].max().nlargest(5).index\n",
    "\n",
    "# Filter the DataFrame to include only the top 5 height with the highest number of rings\n",
    "df_top_heights = df[df['Height'].isin(max_rings_per_height)]\n",
    "\n",
    "# Plot the bar plot\n",
    "plt.figure(figsize=(15, 7))\n",
    "sns.barplot(x='Height', y='Rings', hue='Sex', data=df_top_heights)\n",
    "plt.xticks(rotation=45)  # Rotate x-axis labels by 45 degrees\n",
    "plt.show()"
   ]
  },
  {
   "cell_type": "markdown",
   "id": "7fc09f35",
   "metadata": {
    "papermill": {
     "duration": 0.020734,
     "end_time": "2024-04-19T10:50:46.212792",
     "exception": false,
     "start_time": "2024-04-19T10:50:46.192058",
     "status": "completed"
    },
    "tags": []
   },
   "source": [
    "* #### From the figure, we can observe that female abalones with heights 0.215 and 0.225 have greater number of rings in the case of females.\n",
    "* #### From the figure, we can observe that male abalones with height 0.215 have greater number of rings in the case of males.\n",
    "* #### From the figure, we can observe that infant abalones with height 0.195 have greater number of rings in the case of infant."
   ]
  },
  {
   "cell_type": "code",
   "execution_count": 17,
   "id": "5ff27ec1",
   "metadata": {
    "execution": {
     "iopub.execute_input": "2024-04-19T10:50:46.256796Z",
     "iopub.status.busy": "2024-04-19T10:50:46.256461Z",
     "iopub.status.idle": "2024-04-19T10:50:47.666275Z",
     "shell.execute_reply": "2024-04-19T10:50:47.665208Z"
    },
    "papermill": {
     "duration": 1.43456,
     "end_time": "2024-04-19T10:50:47.668292",
     "exception": false,
     "start_time": "2024-04-19T10:50:46.233732",
     "status": "completed"
    },
    "tags": []
   },
   "outputs": [
    {
     "data": {
      "image/png": "[encoded data removed]",
      "text/plain": [
       "<Figure size 1500x700 with 1 Axes>"
      ]
     },
     "metadata": {},
     "output_type": "display_data"
    }
   ],
   "source": [
    "# Calculate the maximum number of rings for each length\n",
    "max_rings_per_length = df.groupby('Length')['Rings'].max().nlargest(10).index\n",
    "\n",
    "# Filter the DataFrame to include only the top 10 lengths with the highest number of rings\n",
    "df_top_lengths = df[df['Length'].isin(max_rings_per_length)]\n",
    "\n",
    "# Plot the bar plot\n",
    "plt.figure(figsize=(15, 7))\n",
    "sns.barplot(x='Length', y='Rings', hue='Sex', data=df_top_lengths)\n",
    "plt.xticks(rotation=45)  # Rotate x-axis labels by 45 degrees\n",
    "plt.show()\n"
   ]
  },
  {
   "cell_type": "markdown",
   "id": "46df804c",
   "metadata": {
    "papermill": {
     "duration": 0.021228,
     "end_time": "2024-04-19T10:50:47.710696",
     "exception": false,
     "start_time": "2024-04-19T10:50:47.689468",
     "status": "completed"
    },
    "tags": []
   },
   "source": [
    "* #### From the figure, we can observe that female abalones with length 0.7 have greater number of rings in the case of females.\n",
    "* #### From the figure, we can observe that male abalones with length 0.665 have greater number of rings in the case of males.\n",
    "* #### From the figure, we can observe that infant abalones with length 0.61 have greater number of rings in the case of infant."
   ]
  },
  {
   "cell_type": "code",
   "execution_count": 18,
   "id": "86a03af1",
   "metadata": {
    "execution": {
     "iopub.execute_input": "2024-04-19T10:50:47.754892Z",
     "iopub.status.busy": "2024-04-19T10:50:47.753815Z",
     "iopub.status.idle": "2024-04-19T10:50:49.020754Z",
     "shell.execute_reply": "2024-04-19T10:50:49.019807Z"
    },
    "papermill": {
     "duration": 1.29111,
     "end_time": "2024-04-19T10:50:49.022987",
     "exception": false,
     "start_time": "2024-04-19T10:50:47.731877",
     "status": "completed"
    },
    "tags": []
   },
   "outputs": [
    {
     "data": {
      "image/png": "[encoded data removed]",
      "text/plain": [
       "<Figure size 1500x700 with 1 Axes>"
      ]
     },
     "metadata": {},
     "output_type": "display_data"
    }
   ],
   "source": [
    "# Calculate the maximum number of rings for each Diameter\n",
    "max_rings_per_Diameter = df.groupby('Diameter')['Rings'].max().nlargest(10).index\n",
    "\n",
    "# Filter the DataFrame to include only the top 10 Diameter with the highest number of rings\n",
    "df_top_Diameters = df[df['Diameter'].isin(max_rings_per_Diameter)]\n",
    "\n",
    "# Plot the bar plot\n",
    "plt.figure(figsize=(15, 7))\n",
    "sns.barplot(x='Diameter', y='Rings', hue='Sex', data=df_top_Diameters)\n",
    "plt.xticks(rotation=45)  # Rotate x-axis labels by 45 degrees\n",
    "plt.show()"
   ]
  },
  {
   "cell_type": "markdown",
   "id": "508c0bdb",
   "metadata": {
    "papermill": {
     "duration": 0.020591,
     "end_time": "2024-04-19T10:50:49.067237",
     "exception": false,
     "start_time": "2024-04-19T10:50:49.046646",
     "status": "completed"
    },
    "tags": []
   },
   "source": [
    "* #### From the figure, we can observe that female abalones with diameter 0.585 have greater number of rings in the case of females.\n",
    "* #### From the figure, we can observe that male abalones with diameter 0.535 have greater number of rings in the case of males.\n",
    "* #### From the figure, we can observe that infant abalones with diameters 0.49 and 0.495 have greater number of rings in the case of infant."
   ]
  },
  {
   "cell_type": "code",
   "execution_count": 19,
   "id": "cdfc89d5",
   "metadata": {
    "execution": {
     "iopub.execute_input": "2024-04-19T10:50:49.111707Z",
     "iopub.status.busy": "2024-04-19T10:50:49.111377Z",
     "iopub.status.idle": "2024-04-19T10:50:49.703065Z",
     "shell.execute_reply": "2024-04-19T10:50:49.702089Z"
    },
    "papermill": {
     "duration": 0.616011,
     "end_time": "2024-04-19T10:50:49.705233",
     "exception": false,
     "start_time": "2024-04-19T10:50:49.089222",
     "status": "completed"
    },
    "tags": []
   },
   "outputs": [
    {
     "data": {
      "image/png": "[encoded data removed]",
      "text/plain": [
       "<Figure size 1500x700 with 1 Axes>"
      ]
     },
     "metadata": {},
     "output_type": "display_data"
    }
   ],
   "source": [
    "# Calculate the maximum number of rings for each Whole_weight\n",
    "max_rings_per_Whole_weight = df.groupby('Whole_weight')['Rings'].max().nlargest(10).index\n",
    "\n",
    "# Filter the DataFrame to include only the top 10 Whole_weight with the highest number of rings\n",
    "df_top_Whole_weights = df[df['Whole_weight'].isin(max_rings_per_Whole_weight)]\n",
    "\n",
    "# Plot the bar plot\n",
    "plt.figure(figsize=(15, 7))\n",
    "sns.barplot(x='Whole_weight', y='Rings', hue='Sex', data=df_top_Whole_weights)\n",
    "plt.xticks(rotation=45)  # Rotate x-axis labels by 45 degrees\n",
    "plt.show()"
   ]
  },
  {
   "cell_type": "markdown",
   "id": "f76e0e84",
   "metadata": {
    "papermill": {
     "duration": 0.021558,
     "end_time": "2024-04-19T10:50:49.748946",
     "exception": false,
     "start_time": "2024-04-19T10:50:49.727388",
     "status": "completed"
    },
    "tags": []
   },
   "source": [
    "* #### From the figure, we can observe that female abalones with whole_weight 1.8075 have greater number of rings in the case of females.\n",
    "* #### From the figure, we can observe that male abalones with whole_weight 2.1835 have greater number of rings in the case of males."
   ]
  },
  {
   "cell_type": "code",
   "execution_count": 20,
   "id": "994cac66",
   "metadata": {
    "execution": {
     "iopub.execute_input": "2024-04-19T10:50:49.795691Z",
     "iopub.status.busy": "2024-04-19T10:50:49.794920Z",
     "iopub.status.idle": "2024-04-19T10:50:50.487085Z",
     "shell.execute_reply": "2024-04-19T10:50:50.486234Z"
    },
    "papermill": {
     "duration": 0.7186,
     "end_time": "2024-04-19T10:50:50.490003",
     "exception": false,
     "start_time": "2024-04-19T10:50:49.771403",
     "status": "completed"
    },
    "tags": []
   },
   "outputs": [
    {
     "data": {
      "image/png": "[encoded data removed]",
      "text/plain": [
       "<Figure size 1500x700 with 1 Axes>"
      ]
     },
     "metadata": {},
     "output_type": "display_data"
    }
   ],
   "source": [
    "# Calculate the maximum number of rings for each Shucked_weight\n",
    "max_rings_per_Shucked_weight = df.groupby('Shucked_weight')['Rings'].max().nlargest(10).index\n",
    "\n",
    "# Filter the DataFrame to include only the top 10 Shucked_weight with the highest number of rings\n",
    "df_top_Shucked_weights = df[df['Shucked_weight'].isin(max_rings_per_Shucked_weight)]\n",
    "\n",
    "# Plot the bar plot\n",
    "plt.figure(figsize=(15, 7))\n",
    "sns.barplot(x='Shucked_weight', y='Rings', hue='Sex', data=df_top_Shucked_weights)\n",
    "plt.xticks(rotation=45)  # Rotate x-axis labels by 45 degrees\n",
    "plt.show()"
   ]
  },
  {
   "cell_type": "code",
   "execution_count": 21,
   "id": "4f8750ba",
   "metadata": {
    "execution": {
     "iopub.execute_input": "2024-04-19T10:50:50.540247Z",
     "iopub.status.busy": "2024-04-19T10:50:50.539945Z",
     "iopub.status.idle": "2024-04-19T10:50:51.629411Z",
     "shell.execute_reply": "2024-04-19T10:50:51.628444Z"
    },
    "papermill": {
     "duration": 1.115551,
     "end_time": "2024-04-19T10:50:51.631709",
     "exception": false,
     "start_time": "2024-04-19T10:50:50.516158",
     "status": "completed"
    },
    "tags": []
   },
   "outputs": [
    {
     "data": {
      "image/png": "[encoded data removed]",
      "text/plain": [
       "<Figure size 1500x700 with 1 Axes>"
      ]
     },
     "metadata": {},
     "output_type": "display_data"
    }
   ],
   "source": [
    "# Calculate the maximum number of rings for each Viscera_weight\n",
    "max_rings_per_Viscera_weight = df.groupby('Viscera_weight')['Rings'].max().nlargest(10).index\n",
    "\n",
    "# Filter the DataFrame to include only the top 10 Viscera_weight with the highest number of rings\n",
    "df_top_Viscera_weights = df[df['Viscera_weight'].isin(max_rings_per_Viscera_weight)]\n",
    "\n",
    "# Plot the bar plot\n",
    "plt.figure(figsize=(15, 7))\n",
    "sns.barplot(x='Viscera_weight', y='Rings', hue='Sex', data=df_top_Viscera_weights)\n",
    "plt.xticks(rotation=45)  # Rotate x-axis labels by 45 degrees\n",
    "plt.show()"
   ]
  },
  {
   "cell_type": "code",
   "execution_count": 22,
   "id": "5faf798d",
   "metadata": {
    "execution": {
     "iopub.execute_input": "2024-04-19T10:50:51.678918Z",
     "iopub.status.busy": "2024-04-19T10:50:51.678627Z",
     "iopub.status.idle": "2024-04-19T10:50:52.556270Z",
     "shell.execute_reply": "2024-04-19T10:50:52.555326Z"
    },
    "papermill": {
     "duration": 0.903645,
     "end_time": "2024-04-19T10:50:52.558713",
     "exception": false,
     "start_time": "2024-04-19T10:50:51.655068",
     "status": "completed"
    },
    "tags": []
   },
   "outputs": [
    {
     "data": {
      "image/png": "[encoded data removed]",
      "text/plain": [
       "<Figure size 1500x700 with 1 Axes>"
      ]
     },
     "metadata": {},
     "output_type": "display_data"
    }
   ],
   "source": [
    "# Calculate the maximum number of rings for each Shell_weight\n",
    "max_rings_per_Shell_weight = df.groupby('Shell_weight')['Rings'].max().nlargest(10).index\n",
    "\n",
    "# Filter the DataFrame to include only the top 10 Viscera_weight with the highest number of rings\n",
    "df_top_Shell_weights = df[df['Shell_weight'].isin(max_rings_per_Shell_weight)]\n",
    "\n",
    "# Plot the bar plot\n",
    "plt.figure(figsize=(15, 7))\n",
    "sns.barplot(x='Shell_weight', y='Rings', hue='Sex', data=df_top_Shell_weights)\n",
    "plt.xticks(rotation=45)  # Rotate x-axis labels by 45 degrees\n",
    "plt.show()"
   ]
  },
  {
   "cell_type": "code",
   "execution_count": 23,
   "id": "4f3eb64f",
   "metadata": {
    "execution": {
     "iopub.execute_input": "2024-04-19T10:50:52.608698Z",
     "iopub.status.busy": "2024-04-19T10:50:52.608404Z",
     "iopub.status.idle": "2024-04-19T10:50:54.645968Z",
     "shell.execute_reply": "2024-04-19T10:50:54.644738Z"
    },
    "papermill": {
     "duration": 2.065292,
     "end_time": "2024-04-19T10:50:54.648275",
     "exception": false,
     "start_time": "2024-04-19T10:50:52.582983",
     "status": "completed"
    },
    "tags": []
   },
   "outputs": [
    {
     "data": {
      "text/plain": [
       "<Axes: xlabel='Rings', ylabel='Shell_weight'>"
      ]
     },
     "execution_count": 23,
     "metadata": {},
     "output_type": "execute_result"
    },
    {
     "data": {
      "image/png": "[encoded data removed]",
      "text/plain": [
       "<Figure size 640x480 with 1 Axes>"
      ]
     },
     "metadata": {},
     "output_type": "display_data"
    }
   ],
   "source": [
    "sns.lineplot(data=df,x='Rings',y='Shell_weight',hue='Sex')"
   ]
  },
  {
   "cell_type": "markdown",
   "id": "63d1f863",
   "metadata": {
    "papermill": {
     "duration": 0.025828,
     "end_time": "2024-04-19T10:50:54.699114",
     "exception": false,
     "start_time": "2024-04-19T10:50:54.673286",
     "status": "completed"
    },
    "tags": []
   },
   "source": [
    "* #### In the case of females, the number of rings increases as the shell weight increases."
   ]
  },
  {
   "cell_type": "code",
   "execution_count": 24,
   "id": "705abcd3",
   "metadata": {
    "execution": {
     "iopub.execute_input": "2024-04-19T10:50:54.749129Z",
     "iopub.status.busy": "2024-04-19T10:50:54.748736Z",
     "iopub.status.idle": "2024-04-19T10:50:56.804620Z",
     "shell.execute_reply": "2024-04-19T10:50:56.803630Z"
    },
    "papermill": {
     "duration": 2.084223,
     "end_time": "2024-04-19T10:50:56.807528",
     "exception": false,
     "start_time": "2024-04-19T10:50:54.723305",
     "status": "completed"
    },
    "tags": []
   },
   "outputs": [
    {
     "data": {
      "image/png": "[encoded data removed]",
      "text/plain": [
       "<Figure size 640x480 with 1 Axes>"
      ]
     },
     "metadata": {},
     "output_type": "display_data"
    }
   ],
   "source": [
    "sns.lineplot(data=df,x='Rings',y='Height',hue='Sex')\n",
    "plt.show()"
   ]
  },
  {
   "cell_type": "markdown",
   "id": "ddc806f9",
   "metadata": {
    "papermill": {
     "duration": 0.027895,
     "end_time": "2024-04-19T10:50:56.863811",
     "exception": false,
     "start_time": "2024-04-19T10:50:56.835916",
     "status": "completed"
    },
    "tags": []
   },
   "source": [
    "* #### In the case of females, the number of rings increases as the height increases.\n",
    "* #### In the case of males, the number of rings increases as the height increases."
   ]
  },
  {
   "cell_type": "code",
   "execution_count": 25,
   "id": "943bc55b",
   "metadata": {
    "execution": {
     "iopub.execute_input": "2024-04-19T10:50:56.918477Z",
     "iopub.status.busy": "2024-04-19T10:50:56.918106Z",
     "iopub.status.idle": "2024-04-19T10:50:59.088754Z",
     "shell.execute_reply": "2024-04-19T10:50:59.087735Z"
    },
    "papermill": {
     "duration": 2.200462,
     "end_time": "2024-04-19T10:50:59.090933",
     "exception": false,
     "start_time": "2024-04-19T10:50:56.890471",
     "status": "completed"
    },
    "tags": []
   },
   "outputs": [
    {
     "data": {
      "text/plain": [
       "<Axes: xlabel='Rings', ylabel='Length'>"
      ]
     },
     "execution_count": 25,
     "metadata": {},
     "output_type": "execute_result"
    },
    {
     "data": {
      "image/png": "[encoded data removed]",
      "text/plain": [
       "<Figure size 640x480 with 1 Axes>"
      ]
     },
     "metadata": {},
     "output_type": "display_data"
    }
   ],
   "source": [
    "sns.lineplot(data=df,x='Rings',y='Length',hue='Sex')"
   ]
  },
  {
   "cell_type": "markdown",
   "id": "58f929ec",
   "metadata": {
    "papermill": {
     "duration": 0.025928,
     "end_time": "2024-04-19T10:50:59.144291",
     "exception": false,
     "start_time": "2024-04-19T10:50:59.118363",
     "status": "completed"
    },
    "tags": []
   },
   "source": [
    "* #### Number of rings increases as the length increases for all abalones **"
   ]
  },
  {
   "cell_type": "code",
   "execution_count": 26,
   "id": "6ac6a590",
   "metadata": {
    "execution": {
     "iopub.execute_input": "2024-04-19T10:50:59.197997Z",
     "iopub.status.busy": "2024-04-19T10:50:59.197624Z",
     "iopub.status.idle": "2024-04-19T10:51:01.453580Z",
     "shell.execute_reply": "2024-04-19T10:51:01.452597Z"
    },
    "papermill": {
     "duration": 2.285688,
     "end_time": "2024-04-19T10:51:01.455678",
     "exception": false,
     "start_time": "2024-04-19T10:50:59.169990",
     "status": "completed"
    },
    "tags": []
   },
   "outputs": [
    {
     "data": {
      "text/plain": [
       "<Axes: xlabel='Rings', ylabel='Diameter'>"
      ]
     },
     "execution_count": 26,
     "metadata": {},
     "output_type": "execute_result"
    },
    {
     "data": {
      "image/png": "[encoded data removed]",
      "text/plain": [
       "<Figure size 640x480 with 1 Axes>"
      ]
     },
     "metadata": {},
     "output_type": "display_data"
    }
   ],
   "source": [
    "sns.lineplot(data=df,x='Rings',y='Diameter',hue='Sex')"
   ]
  },
  {
   "cell_type": "code",
   "execution_count": 27,
   "id": "64c011b4",
   "metadata": {
    "execution": {
     "iopub.execute_input": "2024-04-19T10:51:01.510913Z",
     "iopub.status.busy": "2024-04-19T10:51:01.510607Z",
     "iopub.status.idle": "2024-04-19T10:51:02.552402Z",
     "shell.execute_reply": "2024-04-19T10:51:02.551516Z"
    },
    "papermill": {
     "duration": 1.071992,
     "end_time": "2024-04-19T10:51:02.554576",
     "exception": false,
     "start_time": "2024-04-19T10:51:01.482584",
     "status": "completed"
    },
    "tags": []
   },
   "outputs": [
    {
     "data": {
      "text/plain": [
       "<Axes: xlabel='Rings', ylabel='Sex'>"
      ]
     },
     "execution_count": 27,
     "metadata": {},
     "output_type": "execute_result"
    },
    {
     "data": {
      "image/png": "[encoded data removed]",
      "text/plain": [
       "<Figure size 640x480 with 1 Axes>"
      ]
     },
     "metadata": {},
     "output_type": "display_data"
    }
   ],
   "source": [
    "sns.lineplot(data=df,x='Rings',y='Sex')"
   ]
  },
  {
   "cell_type": "code",
   "execution_count": 28,
   "id": "a5553727",
   "metadata": {
    "execution": {
     "iopub.execute_input": "2024-04-19T10:51:02.610751Z",
     "iopub.status.busy": "2024-04-19T10:51:02.610444Z",
     "iopub.status.idle": "2024-04-19T10:51:02.633515Z",
     "shell.execute_reply": "2024-04-19T10:51:02.632623Z"
    },
    "papermill": {
     "duration": 0.05285,
     "end_time": "2024-04-19T10:51:02.635417",
     "exception": false,
     "start_time": "2024-04-19T10:51:02.582567",
     "status": "completed"
    },
    "tags": []
   },
   "outputs": [
    {
     "data": {
      "text/html": [
       "<div>\n",
       "<style scoped>\n",
       "    .dataframe tbody tr th:only-of-type {\n",
       "        vertical-align: middle;\n",
       "    }\n",
       "\n",
       "    .dataframe tbody tr th {\n",
       "        vertical-align: top;\n",
       "    }\n",
       "\n",
       "    .dataframe thead th {\n",
       "        text-align: right;\n",
       "    }\n",
       "</style>\n",
       "<table border=\"1\" class=\"dataframe\">\n",
       "  <thead>\n",
       "    <tr style=\"text-align: right;\">\n",
       "      <th></th>\n",
       "      <th>Length</th>\n",
       "      <th>Diameter</th>\n",
       "      <th>Height</th>\n",
       "      <th>Whole_weight</th>\n",
       "      <th>Shucked_weight</th>\n",
       "      <th>Viscera_weight</th>\n",
       "      <th>Shell_weight</th>\n",
       "      <th>Rings</th>\n",
       "      <th>Sex_F</th>\n",
       "      <th>Sex_I</th>\n",
       "      <th>Sex_M</th>\n",
       "    </tr>\n",
       "  </thead>\n",
       "  <tbody>\n",
       "    <tr>\n",
       "      <th>0</th>\n",
       "      <td>0.455</td>\n",
       "      <td>0.365</td>\n",
       "      <td>0.095</td>\n",
       "      <td>0.5140</td>\n",
       "      <td>0.2245</td>\n",
       "      <td>0.1010</td>\n",
       "      <td>0.1500</td>\n",
       "      <td>15</td>\n",
       "      <td>False</td>\n",
       "      <td>False</td>\n",
       "      <td>True</td>\n",
       "    </tr>\n",
       "    <tr>\n",
       "      <th>1</th>\n",
       "      <td>0.350</td>\n",
       "      <td>0.265</td>\n",
       "      <td>0.090</td>\n",
       "      <td>0.2255</td>\n",
       "      <td>0.0995</td>\n",
       "      <td>0.0485</td>\n",
       "      <td>0.0700</td>\n",
       "      <td>7</td>\n",
       "      <td>False</td>\n",
       "      <td>False</td>\n",
       "      <td>True</td>\n",
       "    </tr>\n",
       "    <tr>\n",
       "      <th>2</th>\n",
       "      <td>0.530</td>\n",
       "      <td>0.420</td>\n",
       "      <td>0.135</td>\n",
       "      <td>0.6770</td>\n",
       "      <td>0.2565</td>\n",
       "      <td>0.1415</td>\n",
       "      <td>0.2100</td>\n",
       "      <td>9</td>\n",
       "      <td>True</td>\n",
       "      <td>False</td>\n",
       "      <td>False</td>\n",
       "    </tr>\n",
       "    <tr>\n",
       "      <th>3</th>\n",
       "      <td>0.440</td>\n",
       "      <td>0.365</td>\n",
       "      <td>0.125</td>\n",
       "      <td>0.5160</td>\n",
       "      <td>0.2155</td>\n",
       "      <td>0.1140</td>\n",
       "      <td>0.1550</td>\n",
       "      <td>10</td>\n",
       "      <td>False</td>\n",
       "      <td>False</td>\n",
       "      <td>True</td>\n",
       "    </tr>\n",
       "    <tr>\n",
       "      <th>4</th>\n",
       "      <td>0.330</td>\n",
       "      <td>0.255</td>\n",
       "      <td>0.080</td>\n",
       "      <td>0.2050</td>\n",
       "      <td>0.0895</td>\n",
       "      <td>0.0395</td>\n",
       "      <td>0.0550</td>\n",
       "      <td>7</td>\n",
       "      <td>False</td>\n",
       "      <td>True</td>\n",
       "      <td>False</td>\n",
       "    </tr>\n",
       "    <tr>\n",
       "      <th>...</th>\n",
       "      <td>...</td>\n",
       "      <td>...</td>\n",
       "      <td>...</td>\n",
       "      <td>...</td>\n",
       "      <td>...</td>\n",
       "      <td>...</td>\n",
       "      <td>...</td>\n",
       "      <td>...</td>\n",
       "      <td>...</td>\n",
       "      <td>...</td>\n",
       "      <td>...</td>\n",
       "    </tr>\n",
       "    <tr>\n",
       "      <th>4172</th>\n",
       "      <td>0.565</td>\n",
       "      <td>0.450</td>\n",
       "      <td>0.165</td>\n",
       "      <td>0.8870</td>\n",
       "      <td>0.3700</td>\n",
       "      <td>0.2390</td>\n",
       "      <td>0.2490</td>\n",
       "      <td>11</td>\n",
       "      <td>True</td>\n",
       "      <td>False</td>\n",
       "      <td>False</td>\n",
       "    </tr>\n",
       "    <tr>\n",
       "      <th>4173</th>\n",
       "      <td>0.590</td>\n",
       "      <td>0.440</td>\n",
       "      <td>0.135</td>\n",
       "      <td>0.9660</td>\n",
       "      <td>0.4390</td>\n",
       "      <td>0.2145</td>\n",
       "      <td>0.2605</td>\n",
       "      <td>10</td>\n",
       "      <td>False</td>\n",
       "      <td>False</td>\n",
       "      <td>True</td>\n",
       "    </tr>\n",
       "    <tr>\n",
       "      <th>4174</th>\n",
       "      <td>0.600</td>\n",
       "      <td>0.475</td>\n",
       "      <td>0.205</td>\n",
       "      <td>1.1760</td>\n",
       "      <td>0.5255</td>\n",
       "      <td>0.2875</td>\n",
       "      <td>0.3080</td>\n",
       "      <td>9</td>\n",
       "      <td>False</td>\n",
       "      <td>False</td>\n",
       "      <td>True</td>\n",
       "    </tr>\n",
       "    <tr>\n",
       "      <th>4175</th>\n",
       "      <td>0.625</td>\n",
       "      <td>0.485</td>\n",
       "      <td>0.150</td>\n",
       "      <td>1.0945</td>\n",
       "      <td>0.5310</td>\n",
       "      <td>0.2610</td>\n",
       "      <td>0.2960</td>\n",
       "      <td>10</td>\n",
       "      <td>True</td>\n",
       "      <td>False</td>\n",
       "      <td>False</td>\n",
       "    </tr>\n",
       "    <tr>\n",
       "      <th>4176</th>\n",
       "      <td>0.710</td>\n",
       "      <td>0.555</td>\n",
       "      <td>0.195</td>\n",
       "      <td>1.9485</td>\n",
       "      <td>0.9455</td>\n",
       "      <td>0.3765</td>\n",
       "      <td>0.4950</td>\n",
       "      <td>12</td>\n",
       "      <td>False</td>\n",
       "      <td>False</td>\n",
       "      <td>True</td>\n",
       "    </tr>\n",
       "  </tbody>\n",
       "</table>\n",
       "<p>4177 rows × 11 columns</p>\n",
       "</div>"
      ],
      "text/plain": [
       "      Length  Diameter  Height  Whole_weight  Shucked_weight  Viscera_weight  \\\n",
       "0      0.455     0.365   0.095        0.5140          0.2245          0.1010   \n",
       "1      0.350     0.265   0.090        0.2255          0.0995          0.0485   \n",
       "2      0.530     0.420   0.135        0.6770          0.2565          0.1415   \n",
       "3      0.440     0.365   0.125        0.5160          0.2155          0.1140   \n",
       "4      0.330     0.255   0.080        0.2050          0.0895          0.0395   \n",
       "...      ...       ...     ...           ...             ...             ...   \n",
       "4172   0.565     0.450   0.165        0.8870          0.3700          0.2390   \n",
       "4173   0.590     0.440   0.135        0.9660          0.4390          0.2145   \n",
       "4174   0.600     0.475   0.205        1.1760          0.5255          0.2875   \n",
       "4175   0.625     0.485   0.150        1.0945          0.5310          0.2610   \n",
       "4176   0.710     0.555   0.195        1.9485          0.9455          0.3765   \n",
       "\n",
       "      Shell_weight  Rings  Sex_F  Sex_I  Sex_M  \n",
       "0           0.1500     15  False  False   True  \n",
       "1           0.0700      7  False  False   True  \n",
       "2           0.2100      9   True  False  False  \n",
       "3           0.1550     10  False  False   True  \n",
       "4           0.0550      7  False   True  False  \n",
       "...            ...    ...    ...    ...    ...  \n",
       "4172        0.2490     11   True  False  False  \n",
       "4173        0.2605     10  False  False   True  \n",
       "4174        0.3080      9  False  False   True  \n",
       "4175        0.2960     10   True  False  False  \n",
       "4176        0.4950     12  False  False   True  \n",
       "\n",
       "[4177 rows x 11 columns]"
      ]
     },
     "execution_count": 28,
     "metadata": {},
     "output_type": "execute_result"
    }
   ],
   "source": [
    "df=pd.get_dummies(df,columns=['Sex'])\n",
    "df"
   ]
  },
  {
   "cell_type": "markdown",
   "id": "55269adc",
   "metadata": {
    "papermill": {
     "duration": 0.027452,
     "end_time": "2024-04-19T10:51:02.692816",
     "exception": false,
     "start_time": "2024-04-19T10:51:02.665364",
     "status": "completed"
    },
    "tags": []
   },
   "source": [
    "# <div style=\"text-align: center; background-color:#95a5a6; font-family:Georgia, serif; color: black; padding: 20px;line-height: 1;border-radius:5px; border: 2px solid black;\">Train Test Split</div>"
   ]
  },
  {
   "cell_type": "code",
   "execution_count": 29,
   "id": "971bdc92",
   "metadata": {
    "execution": {
     "iopub.execute_input": "2024-04-19T10:51:02.750254Z",
     "iopub.status.busy": "2024-04-19T10:51:02.749933Z",
     "iopub.status.idle": "2024-04-19T10:51:02.755543Z",
     "shell.execute_reply": "2024-04-19T10:51:02.754681Z"
    },
    "papermill": {
     "duration": 0.036762,
     "end_time": "2024-04-19T10:51:02.757834",
     "exception": false,
     "start_time": "2024-04-19T10:51:02.721072",
     "status": "completed"
    },
    "tags": []
   },
   "outputs": [],
   "source": [
    "x = df.drop('Rings',axis=1)\n",
    "y = df['Rings']"
   ]
  },
  {
   "cell_type": "code",
   "execution_count": 30,
   "id": "2442a219",
   "metadata": {
    "execution": {
     "iopub.execute_input": "2024-04-19T10:51:02.816189Z",
     "iopub.status.busy": "2024-04-19T10:51:02.815788Z",
     "iopub.status.idle": "2024-04-19T10:51:03.028158Z",
     "shell.execute_reply": "2024-04-19T10:51:03.027265Z"
    },
    "papermill": {
     "duration": 0.244599,
     "end_time": "2024-04-19T10:51:03.030457",
     "exception": false,
     "start_time": "2024-04-19T10:51:02.785858",
     "status": "completed"
    },
    "tags": []
   },
   "outputs": [],
   "source": [
    "from sklearn.model_selection import train_test_split\n",
    "x_train,x_test,y_train,y_test = train_test_split(x,y, test_size=0.3,random_state=0)"
   ]
  },
  {
   "cell_type": "code",
   "execution_count": 31,
   "id": "7671c10f",
   "metadata": {
    "execution": {
     "iopub.execute_input": "2024-04-19T10:51:03.089114Z",
     "iopub.status.busy": "2024-04-19T10:51:03.088751Z",
     "iopub.status.idle": "2024-04-19T10:51:03.109184Z",
     "shell.execute_reply": "2024-04-19T10:51:03.108278Z"
    },
    "papermill": {
     "duration": 0.052072,
     "end_time": "2024-04-19T10:51:03.111348",
     "exception": false,
     "start_time": "2024-04-19T10:51:03.059276",
     "status": "completed"
    },
    "tags": []
   },
   "outputs": [
    {
     "data": {
      "text/html": [
       "<div>\n",
       "<style scoped>\n",
       "    .dataframe tbody tr th:only-of-type {\n",
       "        vertical-align: middle;\n",
       "    }\n",
       "\n",
       "    .dataframe tbody tr th {\n",
       "        vertical-align: top;\n",
       "    }\n",
       "\n",
       "    .dataframe thead th {\n",
       "        text-align: right;\n",
       "    }\n",
       "</style>\n",
       "<table border=\"1\" class=\"dataframe\">\n",
       "  <thead>\n",
       "    <tr style=\"text-align: right;\">\n",
       "      <th></th>\n",
       "      <th>Length</th>\n",
       "      <th>Diameter</th>\n",
       "      <th>Height</th>\n",
       "      <th>Whole_weight</th>\n",
       "      <th>Shucked_weight</th>\n",
       "      <th>Viscera_weight</th>\n",
       "      <th>Shell_weight</th>\n",
       "      <th>Sex_F</th>\n",
       "      <th>Sex_I</th>\n",
       "      <th>Sex_M</th>\n",
       "    </tr>\n",
       "  </thead>\n",
       "  <tbody>\n",
       "    <tr>\n",
       "      <th>1376</th>\n",
       "      <td>0.620</td>\n",
       "      <td>0.510</td>\n",
       "      <td>0.175</td>\n",
       "      <td>1.2815</td>\n",
       "      <td>0.5715</td>\n",
       "      <td>0.2385</td>\n",
       "      <td>0.3900</td>\n",
       "      <td>False</td>\n",
       "      <td>False</td>\n",
       "      <td>True</td>\n",
       "    </tr>\n",
       "    <tr>\n",
       "      <th>1225</th>\n",
       "      <td>0.345</td>\n",
       "      <td>0.255</td>\n",
       "      <td>0.085</td>\n",
       "      <td>0.2005</td>\n",
       "      <td>0.1050</td>\n",
       "      <td>0.0370</td>\n",
       "      <td>0.0500</td>\n",
       "      <td>False</td>\n",
       "      <td>True</td>\n",
       "      <td>False</td>\n",
       "    </tr>\n",
       "    <tr>\n",
       "      <th>2722</th>\n",
       "      <td>0.375</td>\n",
       "      <td>0.275</td>\n",
       "      <td>0.095</td>\n",
       "      <td>0.2295</td>\n",
       "      <td>0.0950</td>\n",
       "      <td>0.0545</td>\n",
       "      <td>0.0660</td>\n",
       "      <td>False</td>\n",
       "      <td>True</td>\n",
       "      <td>False</td>\n",
       "    </tr>\n",
       "    <tr>\n",
       "      <th>3387</th>\n",
       "      <td>0.545</td>\n",
       "      <td>0.410</td>\n",
       "      <td>0.145</td>\n",
       "      <td>0.8730</td>\n",
       "      <td>0.3035</td>\n",
       "      <td>0.1960</td>\n",
       "      <td>0.3100</td>\n",
       "      <td>False</td>\n",
       "      <td>False</td>\n",
       "      <td>True</td>\n",
       "    </tr>\n",
       "    <tr>\n",
       "      <th>2773</th>\n",
       "      <td>0.580</td>\n",
       "      <td>0.465</td>\n",
       "      <td>0.145</td>\n",
       "      <td>0.9865</td>\n",
       "      <td>0.4700</td>\n",
       "      <td>0.2155</td>\n",
       "      <td>0.2500</td>\n",
       "      <td>True</td>\n",
       "      <td>False</td>\n",
       "      <td>False</td>\n",
       "    </tr>\n",
       "    <tr>\n",
       "      <th>...</th>\n",
       "      <td>...</td>\n",
       "      <td>...</td>\n",
       "      <td>...</td>\n",
       "      <td>...</td>\n",
       "      <td>...</td>\n",
       "      <td>...</td>\n",
       "      <td>...</td>\n",
       "      <td>...</td>\n",
       "      <td>...</td>\n",
       "      <td>...</td>\n",
       "    </tr>\n",
       "    <tr>\n",
       "      <th>1033</th>\n",
       "      <td>0.650</td>\n",
       "      <td>0.525</td>\n",
       "      <td>0.185</td>\n",
       "      <td>1.6220</td>\n",
       "      <td>0.6645</td>\n",
       "      <td>0.3225</td>\n",
       "      <td>0.4770</td>\n",
       "      <td>False</td>\n",
       "      <td>False</td>\n",
       "      <td>True</td>\n",
       "    </tr>\n",
       "    <tr>\n",
       "      <th>3264</th>\n",
       "      <td>0.655</td>\n",
       "      <td>0.500</td>\n",
       "      <td>0.140</td>\n",
       "      <td>1.1705</td>\n",
       "      <td>0.5405</td>\n",
       "      <td>0.3175</td>\n",
       "      <td>0.2850</td>\n",
       "      <td>True</td>\n",
       "      <td>False</td>\n",
       "      <td>False</td>\n",
       "    </tr>\n",
       "    <tr>\n",
       "      <th>1653</th>\n",
       "      <td>0.595</td>\n",
       "      <td>0.450</td>\n",
       "      <td>0.145</td>\n",
       "      <td>0.9590</td>\n",
       "      <td>0.4630</td>\n",
       "      <td>0.2065</td>\n",
       "      <td>0.2535</td>\n",
       "      <td>False</td>\n",
       "      <td>False</td>\n",
       "      <td>True</td>\n",
       "    </tr>\n",
       "    <tr>\n",
       "      <th>2607</th>\n",
       "      <td>0.625</td>\n",
       "      <td>0.490</td>\n",
       "      <td>0.165</td>\n",
       "      <td>1.1270</td>\n",
       "      <td>0.4770</td>\n",
       "      <td>0.2365</td>\n",
       "      <td>0.3185</td>\n",
       "      <td>True</td>\n",
       "      <td>False</td>\n",
       "      <td>False</td>\n",
       "    </tr>\n",
       "    <tr>\n",
       "      <th>2732</th>\n",
       "      <td>0.410</td>\n",
       "      <td>0.325</td>\n",
       "      <td>0.110</td>\n",
       "      <td>0.3260</td>\n",
       "      <td>0.1325</td>\n",
       "      <td>0.0750</td>\n",
       "      <td>0.1010</td>\n",
       "      <td>False</td>\n",
       "      <td>True</td>\n",
       "      <td>False</td>\n",
       "    </tr>\n",
       "  </tbody>\n",
       "</table>\n",
       "<p>2923 rows × 10 columns</p>\n",
       "</div>"
      ],
      "text/plain": [
       "      Length  Diameter  Height  Whole_weight  Shucked_weight  Viscera_weight  \\\n",
       "1376   0.620     0.510   0.175        1.2815          0.5715          0.2385   \n",
       "1225   0.345     0.255   0.085        0.2005          0.1050          0.0370   \n",
       "2722   0.375     0.275   0.095        0.2295          0.0950          0.0545   \n",
       "3387   0.545     0.410   0.145        0.8730          0.3035          0.1960   \n",
       "2773   0.580     0.465   0.145        0.9865          0.4700          0.2155   \n",
       "...      ...       ...     ...           ...             ...             ...   \n",
       "1033   0.650     0.525   0.185        1.6220          0.6645          0.3225   \n",
       "3264   0.655     0.500   0.140        1.1705          0.5405          0.3175   \n",
       "1653   0.595     0.450   0.145        0.9590          0.4630          0.2065   \n",
       "2607   0.625     0.490   0.165        1.1270          0.4770          0.2365   \n",
       "2732   0.410     0.325   0.110        0.3260          0.1325          0.0750   \n",
       "\n",
       "      Shell_weight  Sex_F  Sex_I  Sex_M  \n",
       "1376        0.3900  False  False   True  \n",
       "1225        0.0500  False   True  False  \n",
       "2722        0.0660  False   True  False  \n",
       "3387        0.3100  False  False   True  \n",
       "2773        0.2500   True  False  False  \n",
       "...            ...    ...    ...    ...  \n",
       "1033        0.4770  False  False   True  \n",
       "3264        0.2850   True  False  False  \n",
       "1653        0.2535  False  False   True  \n",
       "2607        0.3185   True  False  False  \n",
       "2732        0.1010  False   True  False  \n",
       "\n",
       "[2923 rows x 10 columns]"
      ]
     },
     "execution_count": 31,
     "metadata": {},
     "output_type": "execute_result"
    }
   ],
   "source": [
    "x_train"
   ]
  },
  {
   "cell_type": "code",
   "execution_count": 32,
   "id": "a8b7b0a2",
   "metadata": {
    "execution": {
     "iopub.execute_input": "2024-04-19T10:51:03.170241Z",
     "iopub.status.busy": "2024-04-19T10:51:03.169966Z",
     "iopub.status.idle": "2024-04-19T10:51:03.182443Z",
     "shell.execute_reply": "2024-04-19T10:51:03.181532Z"
    },
    "papermill": {
     "duration": 0.043436,
     "end_time": "2024-04-19T10:51:03.184375",
     "exception": false,
     "start_time": "2024-04-19T10:51:03.140939",
     "status": "completed"
    },
    "tags": []
   },
   "outputs": [],
   "source": [
    "# Feature scaling \n",
    "from sklearn.preprocessing import StandardScaler\n",
    "scaler = StandardScaler()\n",
    "X_train_scaled = scaler.fit_transform(x_train)\n",
    "X_test_scaled = scaler.transform(x_test)"
   ]
  },
  {
   "cell_type": "markdown",
   "id": "34d37b48",
   "metadata": {
    "papermill": {
     "duration": 0.028524,
     "end_time": "2024-04-19T10:51:03.241997",
     "exception": false,
     "start_time": "2024-04-19T10:51:03.213473",
     "status": "completed"
    },
    "tags": []
   },
   "source": [
    "# <div style=\"text-align: center; background-color:#95a5a6; font-family:Georgia, serif; color: black; padding: 20px;line-height: 1;border-radius:5px; border: 2px solid black;\">Model building</div>"
   ]
  },
  {
   "cell_type": "code",
   "execution_count": 33,
   "id": "e110d2db",
   "metadata": {
    "execution": {
     "iopub.execute_input": "2024-04-19T10:51:03.303949Z",
     "iopub.status.busy": "2024-04-19T10:51:03.303269Z",
     "iopub.status.idle": "2024-04-19T10:51:03.504783Z",
     "shell.execute_reply": "2024-04-19T10:51:03.503781Z"
    },
    "papermill": {
     "duration": 0.235334,
     "end_time": "2024-04-19T10:51:03.507417",
     "exception": false,
     "start_time": "2024-04-19T10:51:03.272083",
     "status": "completed"
    },
    "tags": []
   },
   "outputs": [],
   "source": [
    "from sklearn.ensemble import RandomForestRegressor"
   ]
  },
  {
   "cell_type": "code",
   "execution_count": 34,
   "id": "3a9f2100",
   "metadata": {
    "execution": {
     "iopub.execute_input": "2024-04-19T10:51:03.566498Z",
     "iopub.status.busy": "2024-04-19T10:51:03.566107Z",
     "iopub.status.idle": "2024-04-19T10:51:07.561909Z",
     "shell.execute_reply": "2024-04-19T10:51:07.560999Z"
    },
    "papermill": {
     "duration": 4.027878,
     "end_time": "2024-04-19T10:51:07.564370",
     "exception": false,
     "start_time": "2024-04-19T10:51:03.536492",
     "status": "completed"
    },
    "tags": []
   },
   "outputs": [],
   "source": [
    "rfr=RandomForestRegressor(n_estimators=300)\n",
    "rfr.fit(x_train,y_train)\n",
    "y_predict=rfr.predict(x_test)"
   ]
  },
  {
   "cell_type": "code",
   "execution_count": 35,
   "id": "9a44e2ba",
   "metadata": {
    "execution": {
     "iopub.execute_input": "2024-04-19T10:51:07.624806Z",
     "iopub.status.busy": "2024-04-19T10:51:07.623778Z",
     "iopub.status.idle": "2024-04-19T10:51:07.630729Z",
     "shell.execute_reply": "2024-04-19T10:51:07.629623Z"
    },
    "papermill": {
     "duration": 0.038778,
     "end_time": "2024-04-19T10:51:07.632661",
     "exception": false,
     "start_time": "2024-04-19T10:51:07.593883",
     "status": "completed"
    },
    "tags": []
   },
   "outputs": [
    {
     "name": "stdout",
     "output_type": "stream",
     "text": [
      "Model of RF with 300 estimators: 4.83597112351586\n"
     ]
    }
   ],
   "source": [
    "##cheking accuracy\n",
    "from sklearn.metrics import mean_squared_error\n",
    "\n",
    "print('Model of RF with 300 estimators:', mean_squared_error(y_test,y_predict))"
   ]
  },
  {
   "cell_type": "code",
   "execution_count": 36,
   "id": "50f50565",
   "metadata": {
    "execution": {
     "iopub.execute_input": "2024-04-19T10:51:07.691686Z",
     "iopub.status.busy": "2024-04-19T10:51:07.691051Z",
     "iopub.status.idle": "2024-04-19T10:51:08.990675Z",
     "shell.execute_reply": "2024-04-19T10:51:08.989676Z"
    },
    "papermill": {
     "duration": 1.331679,
     "end_time": "2024-04-19T10:51:08.993123",
     "exception": false,
     "start_time": "2024-04-19T10:51:07.661444",
     "status": "completed"
    },
    "tags": []
   },
   "outputs": [
    {
     "data": {
      "text/html": [
       "<style>#sk-container-id-1 {color: black;background-color: white;}#sk-container-id-1 pre{padding: 0;}#sk-container-id-1 div.sk-toggleable {background-color: white;}#sk-container-id-1 label.sk-toggleable__label {cursor: pointer;display: block;width: 100%;margin-bottom: 0;padding: 0.3em;box-sizing: border-box;text-align: center;}#sk-container-id-1 label.sk-toggleable__label-arrow:before {content: \"▸\";float: left;margin-right: 0.25em;color: #696969;}#sk-container-id-1 label.sk-toggleable__label-arrow:hover:before {color: black;}#sk-container-id-1 div.sk-estimator:hover label.sk-toggleable__label-arrow:before {color: black;}#sk-container-id-1 div.sk-toggleable__content {max-height: 0;max-width: 0;overflow: hidden;text-align: left;background-color: #f0f8ff;}#sk-container-id-1 div.sk-toggleable__content pre {margin: 0.2em;color: black;border-radius: 0.25em;background-color: #f0f8ff;}#sk-container-id-1 input.sk-toggleable__control:checked~div.sk-toggleable__content {max-height: 200px;max-width: 100%;overflow: auto;}#sk-container-id-1 input.sk-toggleable__control:checked~label.sk-toggleable__label-arrow:before {content: \"▾\";}#sk-container-id-1 div.sk-estimator input.sk-toggleable__control:checked~label.sk-toggleable__label {background-color: #d4ebff;}#sk-container-id-1 div.sk-label input.sk-toggleable__control:checked~label.sk-toggleable__label {background-color: #d4ebff;}#sk-container-id-1 input.sk-hidden--visually {border: 0;clip: rect(1px 1px 1px 1px);clip: rect(1px, 1px, 1px, 1px);height: 1px;margin: -1px;overflow: hidden;padding: 0;position: absolute;width: 1px;}#sk-container-id-1 div.sk-estimator {font-family: monospace;background-color: #f0f8ff;border: 1px dotted black;border-radius: 0.25em;box-sizing: border-box;margin-bottom: 0.5em;}#sk-container-id-1 div.sk-estimator:hover {background-color: #d4ebff;}#sk-container-id-1 div.sk-parallel-item::after {content: \"\";width: 100%;border-bottom: 1px solid gray;flex-grow: 1;}#sk-container-id-1 div.sk-label:hover label.sk-toggleable__label {background-color: #d4ebff;}#sk-container-id-1 div.sk-serial::before {content: \"\";position: absolute;border-left: 1px solid gray;box-sizing: border-box;top: 0;bottom: 0;left: 50%;z-index: 0;}#sk-container-id-1 div.sk-serial {display: flex;flex-direction: column;align-items: center;background-color: white;padding-right: 0.2em;padding-left: 0.2em;position: relative;}#sk-container-id-1 div.sk-item {position: relative;z-index: 1;}#sk-container-id-1 div.sk-parallel {display: flex;align-items: stretch;justify-content: center;background-color: white;position: relative;}#sk-container-id-1 div.sk-item::before, #sk-container-id-1 div.sk-parallel-item::before {content: \"\";position: absolute;border-left: 1px solid gray;box-sizing: border-box;top: 0;bottom: 0;left: 50%;z-index: -1;}#sk-container-id-1 div.sk-parallel-item {display: flex;flex-direction: column;z-index: 1;position: relative;background-color: white;}#sk-container-id-1 div.sk-parallel-item:first-child::after {align-self: flex-end;width: 50%;}#sk-container-id-1 div.sk-parallel-item:last-child::after {align-self: flex-start;width: 50%;}#sk-container-id-1 div.sk-parallel-item:only-child::after {width: 0;}#sk-container-id-1 div.sk-dashed-wrapped {border: 1px dashed gray;margin: 0 0.4em 0.5em 0.4em;box-sizing: border-box;padding-bottom: 0.4em;background-color: white;}#sk-container-id-1 div.sk-label label {font-family: monospace;font-weight: bold;display: inline-block;line-height: 1.2em;}#sk-container-id-1 div.sk-label-container {text-align: center;}#sk-container-id-1 div.sk-container {/* jupyter's `normalize.less` sets `[hidden] { display: none; }` but bootstrap.min.css set `[hidden] { display: none !important; }` so we also need the `!important` here to be able to override the default hidden behavior on the sphinx rendered scikit-learn.org. See: https://github.com/scikit-learn/scikit-learn/issues/21755 */display: inline-block !important;position: relative;}#sk-container-id-1 div.sk-text-repr-fallback {display: none;}</style><div id=\"sk-container-id-1\" class=\"sk-top-container\"><div class=\"sk-text-repr-fallback\"><pre>RandomForestRegressor()</pre><b>In a Jupyter environment, please rerun this cell to show the HTML representation or trust the notebook. <br />On GitHub, the HTML representation is unable to render, please try loading this page with nbviewer.org.</b></div><div class=\"sk-container\" hidden><div class=\"sk-item\"><div class=\"sk-estimator sk-toggleable\"><input class=\"sk-toggleable__control sk-hidden--visually\" id=\"sk-estimator-id-1\" type=\"checkbox\" checked><label for=\"sk-estimator-id-1\" class=\"sk-toggleable__label sk-toggleable__label-arrow\">RandomForestRegressor</label><div class=\"sk-toggleable__content\"><pre>RandomForestRegressor()</pre></div></div></div></div></div>"
      ],
      "text/plain": [
       "RandomForestRegressor()"
      ]
     },
     "execution_count": 36,
     "metadata": {},
     "output_type": "execute_result"
    }
   ],
   "source": [
    "##feature importance\n",
    "\n",
    "rgr = RandomForestRegressor()\n",
    "\n",
    "rgr.fit(x_train,y_train)"
   ]
  },
  {
   "cell_type": "code",
   "execution_count": 37,
   "id": "20cba899",
   "metadata": {
    "execution": {
     "iopub.execute_input": "2024-04-19T10:51:09.053785Z",
     "iopub.status.busy": "2024-04-19T10:51:09.052978Z",
     "iopub.status.idle": "2024-04-19T10:51:09.067871Z",
     "shell.execute_reply": "2024-04-19T10:51:09.066872Z"
    },
    "papermill": {
     "duration": 0.046618,
     "end_time": "2024-04-19T10:51:09.069726",
     "exception": false,
     "start_time": "2024-04-19T10:51:09.023108",
     "status": "completed"
    },
    "tags": []
   },
   "outputs": [
    {
     "data": {
      "text/plain": [
       "array([0.04696995, 0.04920837, 0.05005032, 0.07871749, 0.17111765,\n",
       "       0.06766489, 0.50581377, 0.00649305, 0.01857403, 0.00539049])"
      ]
     },
     "execution_count": 37,
     "metadata": {},
     "output_type": "execute_result"
    }
   ],
   "source": [
    "rgr.feature_importances_"
   ]
  },
  {
   "cell_type": "code",
   "execution_count": 38,
   "id": "0c9b42ae",
   "metadata": {
    "execution": {
     "iopub.execute_input": "2024-04-19T10:51:09.129978Z",
     "iopub.status.busy": "2024-04-19T10:51:09.129585Z",
     "iopub.status.idle": "2024-04-19T10:51:09.145658Z",
     "shell.execute_reply": "2024-04-19T10:51:09.144768Z"
    },
    "papermill": {
     "duration": 0.048724,
     "end_time": "2024-04-19T10:51:09.147938",
     "exception": false,
     "start_time": "2024-04-19T10:51:09.099214",
     "status": "completed"
    },
    "tags": []
   },
   "outputs": [
    {
     "data": {
      "text/plain": [
       "Shell_weight      0.505814\n",
       "Shucked_weight    0.171118\n",
       "Whole_weight      0.078717\n",
       "Viscera_weight    0.067665\n",
       "Height            0.050050\n",
       "Diameter          0.049208\n",
       "Length            0.046970\n",
       "Sex_I             0.018574\n",
       "Sex_F             0.006493\n",
       "Sex_M             0.005390\n",
       "dtype: float64"
      ]
     },
     "execution_count": 38,
     "metadata": {},
     "output_type": "execute_result"
    }
   ],
   "source": [
    "feature_importances = pd.Series(rgr.feature_importances_,index=x_train.columns).sort_values(ascending=False)\n",
    "feature_importances"
   ]
  },
  {
   "cell_type": "code",
   "execution_count": 39,
   "id": "5d101aa1",
   "metadata": {
    "execution": {
     "iopub.execute_input": "2024-04-19T10:51:09.209479Z",
     "iopub.status.busy": "2024-04-19T10:51:09.208887Z",
     "iopub.status.idle": "2024-04-19T10:51:09.214932Z",
     "shell.execute_reply": "2024-04-19T10:51:09.214078Z"
    },
    "papermill": {
     "duration": 0.039153,
     "end_time": "2024-04-19T10:51:09.217028",
     "exception": false,
     "start_time": "2024-04-19T10:51:09.177875",
     "status": "completed"
    },
    "tags": []
   },
   "outputs": [],
   "source": [
    "##selected features are using to build random forest classifier\n",
    "x_train = x_train.drop('Sex_M',axis=1)\n",
    "x_test = x_test.drop('Sex_M',axis=1)"
   ]
  },
  {
   "cell_type": "code",
   "execution_count": 40,
   "id": "f8aff25c",
   "metadata": {
    "execution": {
     "iopub.execute_input": "2024-04-19T10:51:09.278963Z",
     "iopub.status.busy": "2024-04-19T10:51:09.278146Z",
     "iopub.status.idle": "2024-04-19T10:51:09.298444Z",
     "shell.execute_reply": "2024-04-19T10:51:09.297326Z"
    },
    "papermill": {
     "duration": 0.053335,
     "end_time": "2024-04-19T10:51:09.300537",
     "exception": false,
     "start_time": "2024-04-19T10:51:09.247202",
     "status": "completed"
    },
    "tags": []
   },
   "outputs": [
    {
     "data": {
      "text/html": [
       "<div>\n",
       "<style scoped>\n",
       "    .dataframe tbody tr th:only-of-type {\n",
       "        vertical-align: middle;\n",
       "    }\n",
       "\n",
       "    .dataframe tbody tr th {\n",
       "        vertical-align: top;\n",
       "    }\n",
       "\n",
       "    .dataframe thead th {\n",
       "        text-align: right;\n",
       "    }\n",
       "</style>\n",
       "<table border=\"1\" class=\"dataframe\">\n",
       "  <thead>\n",
       "    <tr style=\"text-align: right;\">\n",
       "      <th></th>\n",
       "      <th>Length</th>\n",
       "      <th>Diameter</th>\n",
       "      <th>Height</th>\n",
       "      <th>Whole_weight</th>\n",
       "      <th>Shucked_weight</th>\n",
       "      <th>Viscera_weight</th>\n",
       "      <th>Shell_weight</th>\n",
       "      <th>Sex_F</th>\n",
       "      <th>Sex_I</th>\n",
       "    </tr>\n",
       "  </thead>\n",
       "  <tbody>\n",
       "    <tr>\n",
       "      <th>1376</th>\n",
       "      <td>0.620</td>\n",
       "      <td>0.510</td>\n",
       "      <td>0.175</td>\n",
       "      <td>1.2815</td>\n",
       "      <td>0.5715</td>\n",
       "      <td>0.2385</td>\n",
       "      <td>0.3900</td>\n",
       "      <td>False</td>\n",
       "      <td>False</td>\n",
       "    </tr>\n",
       "    <tr>\n",
       "      <th>1225</th>\n",
       "      <td>0.345</td>\n",
       "      <td>0.255</td>\n",
       "      <td>0.085</td>\n",
       "      <td>0.2005</td>\n",
       "      <td>0.1050</td>\n",
       "      <td>0.0370</td>\n",
       "      <td>0.0500</td>\n",
       "      <td>False</td>\n",
       "      <td>True</td>\n",
       "    </tr>\n",
       "    <tr>\n",
       "      <th>2722</th>\n",
       "      <td>0.375</td>\n",
       "      <td>0.275</td>\n",
       "      <td>0.095</td>\n",
       "      <td>0.2295</td>\n",
       "      <td>0.0950</td>\n",
       "      <td>0.0545</td>\n",
       "      <td>0.0660</td>\n",
       "      <td>False</td>\n",
       "      <td>True</td>\n",
       "    </tr>\n",
       "    <tr>\n",
       "      <th>3387</th>\n",
       "      <td>0.545</td>\n",
       "      <td>0.410</td>\n",
       "      <td>0.145</td>\n",
       "      <td>0.8730</td>\n",
       "      <td>0.3035</td>\n",
       "      <td>0.1960</td>\n",
       "      <td>0.3100</td>\n",
       "      <td>False</td>\n",
       "      <td>False</td>\n",
       "    </tr>\n",
       "    <tr>\n",
       "      <th>2773</th>\n",
       "      <td>0.580</td>\n",
       "      <td>0.465</td>\n",
       "      <td>0.145</td>\n",
       "      <td>0.9865</td>\n",
       "      <td>0.4700</td>\n",
       "      <td>0.2155</td>\n",
       "      <td>0.2500</td>\n",
       "      <td>True</td>\n",
       "      <td>False</td>\n",
       "    </tr>\n",
       "    <tr>\n",
       "      <th>...</th>\n",
       "      <td>...</td>\n",
       "      <td>...</td>\n",
       "      <td>...</td>\n",
       "      <td>...</td>\n",
       "      <td>...</td>\n",
       "      <td>...</td>\n",
       "      <td>...</td>\n",
       "      <td>...</td>\n",
       "      <td>...</td>\n",
       "    </tr>\n",
       "    <tr>\n",
       "      <th>1033</th>\n",
       "      <td>0.650</td>\n",
       "      <td>0.525</td>\n",
       "      <td>0.185</td>\n",
       "      <td>1.6220</td>\n",
       "      <td>0.6645</td>\n",
       "      <td>0.3225</td>\n",
       "      <td>0.4770</td>\n",
       "      <td>False</td>\n",
       "      <td>False</td>\n",
       "    </tr>\n",
       "    <tr>\n",
       "      <th>3264</th>\n",
       "      <td>0.655</td>\n",
       "      <td>0.500</td>\n",
       "      <td>0.140</td>\n",
       "      <td>1.1705</td>\n",
       "      <td>0.5405</td>\n",
       "      <td>0.3175</td>\n",
       "      <td>0.2850</td>\n",
       "      <td>True</td>\n",
       "      <td>False</td>\n",
       "    </tr>\n",
       "    <tr>\n",
       "      <th>1653</th>\n",
       "      <td>0.595</td>\n",
       "      <td>0.450</td>\n",
       "      <td>0.145</td>\n",
       "      <td>0.9590</td>\n",
       "      <td>0.4630</td>\n",
       "      <td>0.2065</td>\n",
       "      <td>0.2535</td>\n",
       "      <td>False</td>\n",
       "      <td>False</td>\n",
       "    </tr>\n",
       "    <tr>\n",
       "      <th>2607</th>\n",
       "      <td>0.625</td>\n",
       "      <td>0.490</td>\n",
       "      <td>0.165</td>\n",
       "      <td>1.1270</td>\n",
       "      <td>0.4770</td>\n",
       "      <td>0.2365</td>\n",
       "      <td>0.3185</td>\n",
       "      <td>True</td>\n",
       "      <td>False</td>\n",
       "    </tr>\n",
       "    <tr>\n",
       "      <th>2732</th>\n",
       "      <td>0.410</td>\n",
       "      <td>0.325</td>\n",
       "      <td>0.110</td>\n",
       "      <td>0.3260</td>\n",
       "      <td>0.1325</td>\n",
       "      <td>0.0750</td>\n",
       "      <td>0.1010</td>\n",
       "      <td>False</td>\n",
       "      <td>True</td>\n",
       "    </tr>\n",
       "  </tbody>\n",
       "</table>\n",
       "<p>2923 rows × 9 columns</p>\n",
       "</div>"
      ],
      "text/plain": [
       "      Length  Diameter  Height  Whole_weight  Shucked_weight  Viscera_weight  \\\n",
       "1376   0.620     0.510   0.175        1.2815          0.5715          0.2385   \n",
       "1225   0.345     0.255   0.085        0.2005          0.1050          0.0370   \n",
       "2722   0.375     0.275   0.095        0.2295          0.0950          0.0545   \n",
       "3387   0.545     0.410   0.145        0.8730          0.3035          0.1960   \n",
       "2773   0.580     0.465   0.145        0.9865          0.4700          0.2155   \n",
       "...      ...       ...     ...           ...             ...             ...   \n",
       "1033   0.650     0.525   0.185        1.6220          0.6645          0.3225   \n",
       "3264   0.655     0.500   0.140        1.1705          0.5405          0.3175   \n",
       "1653   0.595     0.450   0.145        0.9590          0.4630          0.2065   \n",
       "2607   0.625     0.490   0.165        1.1270          0.4770          0.2365   \n",
       "2732   0.410     0.325   0.110        0.3260          0.1325          0.0750   \n",
       "\n",
       "      Shell_weight  Sex_F  Sex_I  \n",
       "1376        0.3900  False  False  \n",
       "1225        0.0500  False   True  \n",
       "2722        0.0660  False   True  \n",
       "3387        0.3100  False  False  \n",
       "2773        0.2500   True  False  \n",
       "...            ...    ...    ...  \n",
       "1033        0.4770  False  False  \n",
       "3264        0.2850   True  False  \n",
       "1653        0.2535  False  False  \n",
       "2607        0.3185   True  False  \n",
       "2732        0.1010  False   True  \n",
       "\n",
       "[2923 rows x 9 columns]"
      ]
     },
     "execution_count": 40,
     "metadata": {},
     "output_type": "execute_result"
    }
   ],
   "source": [
    "x_train"
   ]
  },
  {
   "cell_type": "code",
   "execution_count": 41,
   "id": "a6187393",
   "metadata": {
    "execution": {
     "iopub.execute_input": "2024-04-19T10:51:09.362889Z",
     "iopub.status.busy": "2024-04-19T10:51:09.362520Z",
     "iopub.status.idle": "2024-04-19T10:51:09.383273Z",
     "shell.execute_reply": "2024-04-19T10:51:09.382362Z"
    },
    "papermill": {
     "duration": 0.054232,
     "end_time": "2024-04-19T10:51:09.385431",
     "exception": false,
     "start_time": "2024-04-19T10:51:09.331199",
     "status": "completed"
    },
    "tags": []
   },
   "outputs": [
    {
     "data": {
      "text/html": [
       "<div>\n",
       "<style scoped>\n",
       "    .dataframe tbody tr th:only-of-type {\n",
       "        vertical-align: middle;\n",
       "    }\n",
       "\n",
       "    .dataframe tbody tr th {\n",
       "        vertical-align: top;\n",
       "    }\n",
       "\n",
       "    .dataframe thead th {\n",
       "        text-align: right;\n",
       "    }\n",
       "</style>\n",
       "<table border=\"1\" class=\"dataframe\">\n",
       "  <thead>\n",
       "    <tr style=\"text-align: right;\">\n",
       "      <th></th>\n",
       "      <th>Length</th>\n",
       "      <th>Diameter</th>\n",
       "      <th>Height</th>\n",
       "      <th>Whole_weight</th>\n",
       "      <th>Shucked_weight</th>\n",
       "      <th>Viscera_weight</th>\n",
       "      <th>Shell_weight</th>\n",
       "      <th>Sex_F</th>\n",
       "      <th>Sex_I</th>\n",
       "    </tr>\n",
       "  </thead>\n",
       "  <tbody>\n",
       "    <tr>\n",
       "      <th>668</th>\n",
       "      <td>0.550</td>\n",
       "      <td>0.425</td>\n",
       "      <td>0.155</td>\n",
       "      <td>0.9175</td>\n",
       "      <td>0.2775</td>\n",
       "      <td>0.2430</td>\n",
       "      <td>0.3350</td>\n",
       "      <td>False</td>\n",
       "      <td>False</td>\n",
       "    </tr>\n",
       "    <tr>\n",
       "      <th>1580</th>\n",
       "      <td>0.500</td>\n",
       "      <td>0.400</td>\n",
       "      <td>0.120</td>\n",
       "      <td>0.6160</td>\n",
       "      <td>0.2610</td>\n",
       "      <td>0.1430</td>\n",
       "      <td>0.1935</td>\n",
       "      <td>False</td>\n",
       "      <td>True</td>\n",
       "    </tr>\n",
       "    <tr>\n",
       "      <th>3784</th>\n",
       "      <td>0.620</td>\n",
       "      <td>0.480</td>\n",
       "      <td>0.155</td>\n",
       "      <td>1.2555</td>\n",
       "      <td>0.5270</td>\n",
       "      <td>0.3740</td>\n",
       "      <td>0.3175</td>\n",
       "      <td>False</td>\n",
       "      <td>False</td>\n",
       "    </tr>\n",
       "    <tr>\n",
       "      <th>463</th>\n",
       "      <td>0.220</td>\n",
       "      <td>0.165</td>\n",
       "      <td>0.055</td>\n",
       "      <td>0.0545</td>\n",
       "      <td>0.0215</td>\n",
       "      <td>0.0120</td>\n",
       "      <td>0.0200</td>\n",
       "      <td>False</td>\n",
       "      <td>True</td>\n",
       "    </tr>\n",
       "    <tr>\n",
       "      <th>2615</th>\n",
       "      <td>0.645</td>\n",
       "      <td>0.500</td>\n",
       "      <td>0.175</td>\n",
       "      <td>1.5105</td>\n",
       "      <td>0.6735</td>\n",
       "      <td>0.3755</td>\n",
       "      <td>0.3775</td>\n",
       "      <td>False</td>\n",
       "      <td>False</td>\n",
       "    </tr>\n",
       "    <tr>\n",
       "      <th>...</th>\n",
       "      <td>...</td>\n",
       "      <td>...</td>\n",
       "      <td>...</td>\n",
       "      <td>...</td>\n",
       "      <td>...</td>\n",
       "      <td>...</td>\n",
       "      <td>...</td>\n",
       "      <td>...</td>\n",
       "      <td>...</td>\n",
       "    </tr>\n",
       "    <tr>\n",
       "      <th>1052</th>\n",
       "      <td>0.765</td>\n",
       "      <td>0.600</td>\n",
       "      <td>0.220</td>\n",
       "      <td>2.3020</td>\n",
       "      <td>1.0070</td>\n",
       "      <td>0.5090</td>\n",
       "      <td>0.6205</td>\n",
       "      <td>False</td>\n",
       "      <td>False</td>\n",
       "    </tr>\n",
       "    <tr>\n",
       "      <th>3439</th>\n",
       "      <td>0.440</td>\n",
       "      <td>0.350</td>\n",
       "      <td>0.125</td>\n",
       "      <td>0.4560</td>\n",
       "      <td>0.2100</td>\n",
       "      <td>0.0955</td>\n",
       "      <td>0.1310</td>\n",
       "      <td>False</td>\n",
       "      <td>True</td>\n",
       "    </tr>\n",
       "    <tr>\n",
       "      <th>1174</th>\n",
       "      <td>0.635</td>\n",
       "      <td>0.495</td>\n",
       "      <td>0.015</td>\n",
       "      <td>1.1565</td>\n",
       "      <td>0.5115</td>\n",
       "      <td>0.3080</td>\n",
       "      <td>0.2885</td>\n",
       "      <td>True</td>\n",
       "      <td>False</td>\n",
       "    </tr>\n",
       "    <tr>\n",
       "      <th>2210</th>\n",
       "      <td>0.660</td>\n",
       "      <td>0.505</td>\n",
       "      <td>0.200</td>\n",
       "      <td>1.6305</td>\n",
       "      <td>0.4865</td>\n",
       "      <td>0.2970</td>\n",
       "      <td>0.6100</td>\n",
       "      <td>False</td>\n",
       "      <td>False</td>\n",
       "    </tr>\n",
       "    <tr>\n",
       "      <th>2408</th>\n",
       "      <td>0.620</td>\n",
       "      <td>0.485</td>\n",
       "      <td>0.170</td>\n",
       "      <td>1.2080</td>\n",
       "      <td>0.4805</td>\n",
       "      <td>0.3045</td>\n",
       "      <td>0.3300</td>\n",
       "      <td>False</td>\n",
       "      <td>True</td>\n",
       "    </tr>\n",
       "  </tbody>\n",
       "</table>\n",
       "<p>1254 rows × 9 columns</p>\n",
       "</div>"
      ],
      "text/plain": [
       "      Length  Diameter  Height  Whole_weight  Shucked_weight  Viscera_weight  \\\n",
       "668    0.550     0.425   0.155        0.9175          0.2775          0.2430   \n",
       "1580   0.500     0.400   0.120        0.6160          0.2610          0.1430   \n",
       "3784   0.620     0.480   0.155        1.2555          0.5270          0.3740   \n",
       "463    0.220     0.165   0.055        0.0545          0.0215          0.0120   \n",
       "2615   0.645     0.500   0.175        1.5105          0.6735          0.3755   \n",
       "...      ...       ...     ...           ...             ...             ...   \n",
       "1052   0.765     0.600   0.220        2.3020          1.0070          0.5090   \n",
       "3439   0.440     0.350   0.125        0.4560          0.2100          0.0955   \n",
       "1174   0.635     0.495   0.015        1.1565          0.5115          0.3080   \n",
       "2210   0.660     0.505   0.200        1.6305          0.4865          0.2970   \n",
       "2408   0.620     0.485   0.170        1.2080          0.4805          0.3045   \n",
       "\n",
       "      Shell_weight  Sex_F  Sex_I  \n",
       "668         0.3350  False  False  \n",
       "1580        0.1935  False   True  \n",
       "3784        0.3175  False  False  \n",
       "463         0.0200  False   True  \n",
       "2615        0.3775  False  False  \n",
       "...            ...    ...    ...  \n",
       "1052        0.6205  False  False  \n",
       "3439        0.1310  False   True  \n",
       "1174        0.2885   True  False  \n",
       "2210        0.6100  False  False  \n",
       "2408        0.3300  False   True  \n",
       "\n",
       "[1254 rows x 9 columns]"
      ]
     },
     "execution_count": 41,
     "metadata": {},
     "output_type": "execute_result"
    }
   ],
   "source": [
    "x_test"
   ]
  },
  {
   "cell_type": "code",
   "execution_count": 42,
   "id": "47a84fa2",
   "metadata": {
    "execution": {
     "iopub.execute_input": "2024-04-19T10:51:09.448560Z",
     "iopub.status.busy": "2024-04-19T10:51:09.447710Z",
     "iopub.status.idle": "2024-04-19T10:51:13.376874Z",
     "shell.execute_reply": "2024-04-19T10:51:13.375800Z"
    },
    "papermill": {
     "duration": 3.96306,
     "end_time": "2024-04-19T10:51:13.379468",
     "exception": false,
     "start_time": "2024-04-19T10:51:09.416408",
     "status": "completed"
    },
    "tags": []
   },
   "outputs": [],
   "source": [
    "rfr1=RandomForestRegressor(n_estimators=300)\n",
    "rfr1.fit(x_train,y_train)\n",
    "y_predict=rfr1.predict(x_test)"
   ]
  },
  {
   "cell_type": "code",
   "execution_count": 43,
   "id": "295138e6",
   "metadata": {
    "execution": {
     "iopub.execute_input": "2024-04-19T10:51:13.443953Z",
     "iopub.status.busy": "2024-04-19T10:51:13.443628Z",
     "iopub.status.idle": "2024-04-19T10:51:13.449920Z",
     "shell.execute_reply": "2024-04-19T10:51:13.448874Z"
    },
    "papermill": {
     "duration": 0.041172,
     "end_time": "2024-04-19T10:51:13.452370",
     "exception": false,
     "start_time": "2024-04-19T10:51:13.411198",
     "status": "completed"
    },
    "tags": []
   },
   "outputs": [
    {
     "name": "stdout",
     "output_type": "stream",
     "text": [
      "Model of RF with 300 estimators: 4.82391050859472\n"
     ]
    }
   ],
   "source": [
    "print('Model of RF with 300 estimators:', mean_squared_error(y_test,y_predict))"
   ]
  },
  {
   "cell_type": "code",
   "execution_count": 44,
   "id": "b2d0db83",
   "metadata": {
    "execution": {
     "iopub.execute_input": "2024-04-19T10:51:13.518698Z",
     "iopub.status.busy": "2024-04-19T10:51:13.518390Z",
     "iopub.status.idle": "2024-04-19T10:52:23.844006Z",
     "shell.execute_reply": "2024-04-19T10:52:23.842857Z"
    },
    "papermill": {
     "duration": 70.391094,
     "end_time": "2024-04-19T10:52:23.876439",
     "exception": false,
     "start_time": "2024-04-19T10:51:13.485345",
     "status": "completed"
    },
    "tags": []
   },
   "outputs": [
    {
     "name": "stdout",
     "output_type": "stream",
     "text": [
      "{'max_depth': 7, 'min_samples_split': 2, 'n_estimators': 300}\n"
     ]
    }
   ],
   "source": [
    "from sklearn.model_selection import GridSearchCV\n",
    "from sklearn.ensemble import RandomForestRegressor\n",
    "\n",
    "# Define the parameter grid\n",
    "param_grid = {\n",
    "    'n_estimators': [100, 200, 300],\n",
    "    'max_depth': [5, 7, 10],\n",
    "    'min_samples_split': [2, 5, 10],\n",
    "}\n",
    "\n",
    "# Instantiate RandomForestRegressor\n",
    "rf = RandomForestRegressor(n_estimators=300, criterion='squared_error')\n",
    "\n",
    "# Instantiate GridSearchCV\n",
    "grid_search = GridSearchCV(rf, param_grid=param_grid, cv=5, n_jobs=-1)\n",
    "\n",
    "# Fit GridSearchCV to data\n",
    "grid_search.fit(x_train, y_train)\n",
    "\n",
    "# Print the best parameters found\n",
    "print(grid_search.best_params_)"
   ]
  },
  {
   "cell_type": "code",
   "execution_count": 45,
   "id": "35ae284c",
   "metadata": {
    "execution": {
     "iopub.execute_input": "2024-04-19T10:52:23.939096Z",
     "iopub.status.busy": "2024-04-19T10:52:23.938738Z",
     "iopub.status.idle": "2024-04-19T10:52:27.859787Z",
     "shell.execute_reply": "2024-04-19T10:52:27.858967Z"
    },
    "papermill": {
     "duration": 3.955214,
     "end_time": "2024-04-19T10:52:27.862186",
     "exception": false,
     "start_time": "2024-04-19T10:52:23.906972",
     "status": "completed"
    },
    "tags": []
   },
   "outputs": [],
   "source": [
    "# fit the model\n",
    "rf.fit(x_train,y_train)\n",
    "\n",
    "# prediction\n",
    "y_predict=rf.predict(x_test)"
   ]
  },
  {
   "cell_type": "code",
   "execution_count": 46,
   "id": "33716c4c",
   "metadata": {
    "execution": {
     "iopub.execute_input": "2024-04-19T10:52:27.925595Z",
     "iopub.status.busy": "2024-04-19T10:52:27.925272Z",
     "iopub.status.idle": "2024-04-19T10:52:27.930521Z",
     "shell.execute_reply": "2024-04-19T10:52:27.929617Z"
    },
    "papermill": {
     "duration": 0.039346,
     "end_time": "2024-04-19T10:52:27.933376",
     "exception": false,
     "start_time": "2024-04-19T10:52:27.894030",
     "status": "completed"
    },
    "tags": []
   },
   "outputs": [
    {
     "name": "stdout",
     "output_type": "stream",
     "text": [
      "Model of RF with 300 estimators: 4.832509356725146\n"
     ]
    }
   ],
   "source": [
    "print('Model of RF with 300 estimators:', mean_squared_error(y_test,y_predict))"
   ]
  },
  {
   "cell_type": "markdown",
   "id": "14c54886",
   "metadata": {
    "papermill": {
     "duration": 0.031602,
     "end_time": "2024-04-19T10:52:27.996788",
     "exception": false,
     "start_time": "2024-04-19T10:52:27.965186",
     "status": "completed"
    },
    "tags": []
   },
   "source": [
    "# <div style=\"text-align: center; background-color:#95a5a6; font-family:Georgia, serif; color: black; padding: 20px;line-height: 1;border-radius:5px; border: 2px solid black;\">Adding an extra column named Age </div>"
   ]
  },
  {
   "cell_type": "markdown",
   "id": "f9e873a7",
   "metadata": {
    "papermill": {
     "duration": 0.029706,
     "end_time": "2024-04-19T10:52:28.057417",
     "exception": false,
     "start_time": "2024-04-19T10:52:28.027711",
     "status": "completed"
    },
    "tags": []
   },
   "source": [
    "Now we can predict the age of Abalone by adding 1.5 to number of rings."
   ]
  },
  {
   "cell_type": "code",
   "execution_count": 47,
   "id": "e8da817e",
   "metadata": {
    "execution": {
     "iopub.execute_input": "2024-04-19T10:52:28.119413Z",
     "iopub.status.busy": "2024-04-19T10:52:28.118579Z",
     "iopub.status.idle": "2024-04-19T10:52:28.124254Z",
     "shell.execute_reply": "2024-04-19T10:52:28.123441Z"
    },
    "papermill": {
     "duration": 0.038866,
     "end_time": "2024-04-19T10:52:28.126204",
     "exception": false,
     "start_time": "2024-04-19T10:52:28.087338",
     "status": "completed"
    },
    "tags": []
   },
   "outputs": [],
   "source": [
    " x_train['Age']=y_train+1.5"
   ]
  },
  {
   "cell_type": "code",
   "execution_count": 48,
   "id": "66139d2b",
   "metadata": {
    "execution": {
     "iopub.execute_input": "2024-04-19T10:52:28.186927Z",
     "iopub.status.busy": "2024-04-19T10:52:28.186610Z",
     "iopub.status.idle": "2024-04-19T10:52:28.211660Z",
     "shell.execute_reply": "2024-04-19T10:52:28.210736Z"
    },
    "papermill": {
     "duration": 0.057895,
     "end_time": "2024-04-19T10:52:28.213641",
     "exception": false,
     "start_time": "2024-04-19T10:52:28.155746",
     "status": "completed"
    },
    "tags": []
   },
   "outputs": [
    {
     "data": {
      "text/html": [
       "<div>\n",
       "<style scoped>\n",
       "    .dataframe tbody tr th:only-of-type {\n",
       "        vertical-align: middle;\n",
       "    }\n",
       "\n",
       "    .dataframe tbody tr th {\n",
       "        vertical-align: top;\n",
       "    }\n",
       "\n",
       "    .dataframe thead th {\n",
       "        text-align: right;\n",
       "    }\n",
       "</style>\n",
       "<table border=\"1\" class=\"dataframe\">\n",
       "  <thead>\n",
       "    <tr style=\"text-align: right;\">\n",
       "      <th></th>\n",
       "      <th>Length</th>\n",
       "      <th>Diameter</th>\n",
       "      <th>Height</th>\n",
       "      <th>Whole_weight</th>\n",
       "      <th>Shucked_weight</th>\n",
       "      <th>Viscera_weight</th>\n",
       "      <th>Shell_weight</th>\n",
       "      <th>Sex_F</th>\n",
       "      <th>Sex_I</th>\n",
       "      <th>Age</th>\n",
       "    </tr>\n",
       "  </thead>\n",
       "  <tbody>\n",
       "    <tr>\n",
       "      <th>1376</th>\n",
       "      <td>0.620</td>\n",
       "      <td>0.510</td>\n",
       "      <td>0.175</td>\n",
       "      <td>1.2815</td>\n",
       "      <td>0.5715</td>\n",
       "      <td>0.2385</td>\n",
       "      <td>0.3900</td>\n",
       "      <td>False</td>\n",
       "      <td>False</td>\n",
       "      <td>11.5</td>\n",
       "    </tr>\n",
       "    <tr>\n",
       "      <th>1225</th>\n",
       "      <td>0.345</td>\n",
       "      <td>0.255</td>\n",
       "      <td>0.085</td>\n",
       "      <td>0.2005</td>\n",
       "      <td>0.1050</td>\n",
       "      <td>0.0370</td>\n",
       "      <td>0.0500</td>\n",
       "      <td>False</td>\n",
       "      <td>True</td>\n",
       "      <td>6.5</td>\n",
       "    </tr>\n",
       "    <tr>\n",
       "      <th>2722</th>\n",
       "      <td>0.375</td>\n",
       "      <td>0.275</td>\n",
       "      <td>0.095</td>\n",
       "      <td>0.2295</td>\n",
       "      <td>0.0950</td>\n",
       "      <td>0.0545</td>\n",
       "      <td>0.0660</td>\n",
       "      <td>False</td>\n",
       "      <td>True</td>\n",
       "      <td>8.5</td>\n",
       "    </tr>\n",
       "    <tr>\n",
       "      <th>3387</th>\n",
       "      <td>0.545</td>\n",
       "      <td>0.410</td>\n",
       "      <td>0.145</td>\n",
       "      <td>0.8730</td>\n",
       "      <td>0.3035</td>\n",
       "      <td>0.1960</td>\n",
       "      <td>0.3100</td>\n",
       "      <td>False</td>\n",
       "      <td>False</td>\n",
       "      <td>19.5</td>\n",
       "    </tr>\n",
       "    <tr>\n",
       "      <th>2773</th>\n",
       "      <td>0.580</td>\n",
       "      <td>0.465</td>\n",
       "      <td>0.145</td>\n",
       "      <td>0.9865</td>\n",
       "      <td>0.4700</td>\n",
       "      <td>0.2155</td>\n",
       "      <td>0.2500</td>\n",
       "      <td>True</td>\n",
       "      <td>False</td>\n",
       "      <td>12.5</td>\n",
       "    </tr>\n",
       "    <tr>\n",
       "      <th>...</th>\n",
       "      <td>...</td>\n",
       "      <td>...</td>\n",
       "      <td>...</td>\n",
       "      <td>...</td>\n",
       "      <td>...</td>\n",
       "      <td>...</td>\n",
       "      <td>...</td>\n",
       "      <td>...</td>\n",
       "      <td>...</td>\n",
       "      <td>...</td>\n",
       "    </tr>\n",
       "    <tr>\n",
       "      <th>1033</th>\n",
       "      <td>0.650</td>\n",
       "      <td>0.525</td>\n",
       "      <td>0.185</td>\n",
       "      <td>1.6220</td>\n",
       "      <td>0.6645</td>\n",
       "      <td>0.3225</td>\n",
       "      <td>0.4770</td>\n",
       "      <td>False</td>\n",
       "      <td>False</td>\n",
       "      <td>11.5</td>\n",
       "    </tr>\n",
       "    <tr>\n",
       "      <th>3264</th>\n",
       "      <td>0.655</td>\n",
       "      <td>0.500</td>\n",
       "      <td>0.140</td>\n",
       "      <td>1.1705</td>\n",
       "      <td>0.5405</td>\n",
       "      <td>0.3175</td>\n",
       "      <td>0.2850</td>\n",
       "      <td>True</td>\n",
       "      <td>False</td>\n",
       "      <td>13.5</td>\n",
       "    </tr>\n",
       "    <tr>\n",
       "      <th>1653</th>\n",
       "      <td>0.595</td>\n",
       "      <td>0.450</td>\n",
       "      <td>0.145</td>\n",
       "      <td>0.9590</td>\n",
       "      <td>0.4630</td>\n",
       "      <td>0.2065</td>\n",
       "      <td>0.2535</td>\n",
       "      <td>False</td>\n",
       "      <td>False</td>\n",
       "      <td>11.5</td>\n",
       "    </tr>\n",
       "    <tr>\n",
       "      <th>2607</th>\n",
       "      <td>0.625</td>\n",
       "      <td>0.490</td>\n",
       "      <td>0.165</td>\n",
       "      <td>1.1270</td>\n",
       "      <td>0.4770</td>\n",
       "      <td>0.2365</td>\n",
       "      <td>0.3185</td>\n",
       "      <td>True</td>\n",
       "      <td>False</td>\n",
       "      <td>10.5</td>\n",
       "    </tr>\n",
       "    <tr>\n",
       "      <th>2732</th>\n",
       "      <td>0.410</td>\n",
       "      <td>0.325</td>\n",
       "      <td>0.110</td>\n",
       "      <td>0.3260</td>\n",
       "      <td>0.1325</td>\n",
       "      <td>0.0750</td>\n",
       "      <td>0.1010</td>\n",
       "      <td>False</td>\n",
       "      <td>True</td>\n",
       "      <td>9.5</td>\n",
       "    </tr>\n",
       "  </tbody>\n",
       "</table>\n",
       "<p>2923 rows × 10 columns</p>\n",
       "</div>"
      ],
      "text/plain": [
       "      Length  Diameter  Height  Whole_weight  Shucked_weight  Viscera_weight  \\\n",
       "1376   0.620     0.510   0.175        1.2815          0.5715          0.2385   \n",
       "1225   0.345     0.255   0.085        0.2005          0.1050          0.0370   \n",
       "2722   0.375     0.275   0.095        0.2295          0.0950          0.0545   \n",
       "3387   0.545     0.410   0.145        0.8730          0.3035          0.1960   \n",
       "2773   0.580     0.465   0.145        0.9865          0.4700          0.2155   \n",
       "...      ...       ...     ...           ...             ...             ...   \n",
       "1033   0.650     0.525   0.185        1.6220          0.6645          0.3225   \n",
       "3264   0.655     0.500   0.140        1.1705          0.5405          0.3175   \n",
       "1653   0.595     0.450   0.145        0.9590          0.4630          0.2065   \n",
       "2607   0.625     0.490   0.165        1.1270          0.4770          0.2365   \n",
       "2732   0.410     0.325   0.110        0.3260          0.1325          0.0750   \n",
       "\n",
       "      Shell_weight  Sex_F  Sex_I   Age  \n",
       "1376        0.3900  False  False  11.5  \n",
       "1225        0.0500  False   True   6.5  \n",
       "2722        0.0660  False   True   8.5  \n",
       "3387        0.3100  False  False  19.5  \n",
       "2773        0.2500   True  False  12.5  \n",
       "...            ...    ...    ...   ...  \n",
       "1033        0.4770  False  False  11.5  \n",
       "3264        0.2850   True  False  13.5  \n",
       "1653        0.2535  False  False  11.5  \n",
       "2607        0.3185   True  False  10.5  \n",
       "2732        0.1010  False   True   9.5  \n",
       "\n",
       "[2923 rows x 10 columns]"
      ]
     },
     "execution_count": 48,
     "metadata": {},
     "output_type": "execute_result"
    }
   ],
   "source": [
    "x_train"
   ]
  },
  {
   "cell_type": "code",
   "execution_count": 49,
   "id": "4a79069d",
   "metadata": {
    "execution": {
     "iopub.execute_input": "2024-04-19T10:52:28.278395Z",
     "iopub.status.busy": "2024-04-19T10:52:28.278126Z",
     "iopub.status.idle": "2024-04-19T10:52:28.283315Z",
     "shell.execute_reply": "2024-04-19T10:52:28.282348Z"
    },
    "papermill": {
     "duration": 0.040274,
     "end_time": "2024-04-19T10:52:28.285614",
     "exception": false,
     "start_time": "2024-04-19T10:52:28.245340",
     "status": "completed"
    },
    "tags": []
   },
   "outputs": [],
   "source": [
    "x_test['Age']=y_test+1.5"
   ]
  },
  {
   "cell_type": "code",
   "execution_count": 50,
   "id": "02817b44",
   "metadata": {
    "execution": {
     "iopub.execute_input": "2024-04-19T10:52:28.354263Z",
     "iopub.status.busy": "2024-04-19T10:52:28.353957Z",
     "iopub.status.idle": "2024-04-19T10:52:28.374834Z",
     "shell.execute_reply": "2024-04-19T10:52:28.373872Z"
    },
    "papermill": {
     "duration": 0.056248,
     "end_time": "2024-04-19T10:52:28.376747",
     "exception": false,
     "start_time": "2024-04-19T10:52:28.320499",
     "status": "completed"
    },
    "tags": []
   },
   "outputs": [
    {
     "data": {
      "text/html": [
       "<div>\n",
       "<style scoped>\n",
       "    .dataframe tbody tr th:only-of-type {\n",
       "        vertical-align: middle;\n",
       "    }\n",
       "\n",
       "    .dataframe tbody tr th {\n",
       "        vertical-align: top;\n",
       "    }\n",
       "\n",
       "    .dataframe thead th {\n",
       "        text-align: right;\n",
       "    }\n",
       "</style>\n",
       "<table border=\"1\" class=\"dataframe\">\n",
       "  <thead>\n",
       "    <tr style=\"text-align: right;\">\n",
       "      <th></th>\n",
       "      <th>Length</th>\n",
       "      <th>Diameter</th>\n",
       "      <th>Height</th>\n",
       "      <th>Whole_weight</th>\n",
       "      <th>Shucked_weight</th>\n",
       "      <th>Viscera_weight</th>\n",
       "      <th>Shell_weight</th>\n",
       "      <th>Sex_F</th>\n",
       "      <th>Sex_I</th>\n",
       "      <th>Age</th>\n",
       "    </tr>\n",
       "  </thead>\n",
       "  <tbody>\n",
       "    <tr>\n",
       "      <th>668</th>\n",
       "      <td>0.550</td>\n",
       "      <td>0.425</td>\n",
       "      <td>0.155</td>\n",
       "      <td>0.9175</td>\n",
       "      <td>0.2775</td>\n",
       "      <td>0.2430</td>\n",
       "      <td>0.3350</td>\n",
       "      <td>False</td>\n",
       "      <td>False</td>\n",
       "      <td>14.5</td>\n",
       "    </tr>\n",
       "    <tr>\n",
       "      <th>1580</th>\n",
       "      <td>0.500</td>\n",
       "      <td>0.400</td>\n",
       "      <td>0.120</td>\n",
       "      <td>0.6160</td>\n",
       "      <td>0.2610</td>\n",
       "      <td>0.1430</td>\n",
       "      <td>0.1935</td>\n",
       "      <td>False</td>\n",
       "      <td>True</td>\n",
       "      <td>9.5</td>\n",
       "    </tr>\n",
       "    <tr>\n",
       "      <th>3784</th>\n",
       "      <td>0.620</td>\n",
       "      <td>0.480</td>\n",
       "      <td>0.155</td>\n",
       "      <td>1.2555</td>\n",
       "      <td>0.5270</td>\n",
       "      <td>0.3740</td>\n",
       "      <td>0.3175</td>\n",
       "      <td>False</td>\n",
       "      <td>False</td>\n",
       "      <td>12.5</td>\n",
       "    </tr>\n",
       "    <tr>\n",
       "      <th>463</th>\n",
       "      <td>0.220</td>\n",
       "      <td>0.165</td>\n",
       "      <td>0.055</td>\n",
       "      <td>0.0545</td>\n",
       "      <td>0.0215</td>\n",
       "      <td>0.0120</td>\n",
       "      <td>0.0200</td>\n",
       "      <td>False</td>\n",
       "      <td>True</td>\n",
       "      <td>6.5</td>\n",
       "    </tr>\n",
       "    <tr>\n",
       "      <th>2615</th>\n",
       "      <td>0.645</td>\n",
       "      <td>0.500</td>\n",
       "      <td>0.175</td>\n",
       "      <td>1.5105</td>\n",
       "      <td>0.6735</td>\n",
       "      <td>0.3755</td>\n",
       "      <td>0.3775</td>\n",
       "      <td>False</td>\n",
       "      <td>False</td>\n",
       "      <td>13.5</td>\n",
       "    </tr>\n",
       "    <tr>\n",
       "      <th>...</th>\n",
       "      <td>...</td>\n",
       "      <td>...</td>\n",
       "      <td>...</td>\n",
       "      <td>...</td>\n",
       "      <td>...</td>\n",
       "      <td>...</td>\n",
       "      <td>...</td>\n",
       "      <td>...</td>\n",
       "      <td>...</td>\n",
       "      <td>...</td>\n",
       "    </tr>\n",
       "    <tr>\n",
       "      <th>1052</th>\n",
       "      <td>0.765</td>\n",
       "      <td>0.600</td>\n",
       "      <td>0.220</td>\n",
       "      <td>2.3020</td>\n",
       "      <td>1.0070</td>\n",
       "      <td>0.5090</td>\n",
       "      <td>0.6205</td>\n",
       "      <td>False</td>\n",
       "      <td>False</td>\n",
       "      <td>13.5</td>\n",
       "    </tr>\n",
       "    <tr>\n",
       "      <th>3439</th>\n",
       "      <td>0.440</td>\n",
       "      <td>0.350</td>\n",
       "      <td>0.125</td>\n",
       "      <td>0.4560</td>\n",
       "      <td>0.2100</td>\n",
       "      <td>0.0955</td>\n",
       "      <td>0.1310</td>\n",
       "      <td>False</td>\n",
       "      <td>True</td>\n",
       "      <td>9.5</td>\n",
       "    </tr>\n",
       "    <tr>\n",
       "      <th>1174</th>\n",
       "      <td>0.635</td>\n",
       "      <td>0.495</td>\n",
       "      <td>0.015</td>\n",
       "      <td>1.1565</td>\n",
       "      <td>0.5115</td>\n",
       "      <td>0.3080</td>\n",
       "      <td>0.2885</td>\n",
       "      <td>True</td>\n",
       "      <td>False</td>\n",
       "      <td>10.5</td>\n",
       "    </tr>\n",
       "    <tr>\n",
       "      <th>2210</th>\n",
       "      <td>0.660</td>\n",
       "      <td>0.505</td>\n",
       "      <td>0.200</td>\n",
       "      <td>1.6305</td>\n",
       "      <td>0.4865</td>\n",
       "      <td>0.2970</td>\n",
       "      <td>0.6100</td>\n",
       "      <td>False</td>\n",
       "      <td>False</td>\n",
       "      <td>19.5</td>\n",
       "    </tr>\n",
       "    <tr>\n",
       "      <th>2408</th>\n",
       "      <td>0.620</td>\n",
       "      <td>0.485</td>\n",
       "      <td>0.170</td>\n",
       "      <td>1.2080</td>\n",
       "      <td>0.4805</td>\n",
       "      <td>0.3045</td>\n",
       "      <td>0.3300</td>\n",
       "      <td>False</td>\n",
       "      <td>True</td>\n",
       "      <td>16.5</td>\n",
       "    </tr>\n",
       "  </tbody>\n",
       "</table>\n",
       "<p>1254 rows × 10 columns</p>\n",
       "</div>"
      ],
      "text/plain": [
       "      Length  Diameter  Height  Whole_weight  Shucked_weight  Viscera_weight  \\\n",
       "668    0.550     0.425   0.155        0.9175          0.2775          0.2430   \n",
       "1580   0.500     0.400   0.120        0.6160          0.2610          0.1430   \n",
       "3784   0.620     0.480   0.155        1.2555          0.5270          0.3740   \n",
       "463    0.220     0.165   0.055        0.0545          0.0215          0.0120   \n",
       "2615   0.645     0.500   0.175        1.5105          0.6735          0.3755   \n",
       "...      ...       ...     ...           ...             ...             ...   \n",
       "1052   0.765     0.600   0.220        2.3020          1.0070          0.5090   \n",
       "3439   0.440     0.350   0.125        0.4560          0.2100          0.0955   \n",
       "1174   0.635     0.495   0.015        1.1565          0.5115          0.3080   \n",
       "2210   0.660     0.505   0.200        1.6305          0.4865          0.2970   \n",
       "2408   0.620     0.485   0.170        1.2080          0.4805          0.3045   \n",
       "\n",
       "      Shell_weight  Sex_F  Sex_I   Age  \n",
       "668         0.3350  False  False  14.5  \n",
       "1580        0.1935  False   True   9.5  \n",
       "3784        0.3175  False  False  12.5  \n",
       "463         0.0200  False   True   6.5  \n",
       "2615        0.3775  False  False  13.5  \n",
       "...            ...    ...    ...   ...  \n",
       "1052        0.6205  False  False  13.5  \n",
       "3439        0.1310  False   True   9.5  \n",
       "1174        0.2885   True  False  10.5  \n",
       "2210        0.6100  False  False  19.5  \n",
       "2408        0.3300  False   True  16.5  \n",
       "\n",
       "[1254 rows x 10 columns]"
      ]
     },
     "execution_count": 50,
     "metadata": {},
     "output_type": "execute_result"
    }
   ],
   "source": [
    "x_test"
   ]
  },
  {
   "cell_type": "code",
   "execution_count": null,
   "id": "199a3ace",
   "metadata": {
    "papermill": {
     "duration": 0.032427,
     "end_time": "2024-04-19T10:52:28.441122",
     "exception": false,
     "start_time": "2024-04-19T10:52:28.408695",
     "status": "completed"
    },
    "tags": []
   },
   "outputs": [],
   "source": []
  }
 ],
 "metadata": {
  "kaggle": {
   "accelerator": "none",
   "dataSources": [
    {
     "datasetId": 4798843,
     "sourceId": 8121370,
     "sourceType": "datasetVersion"
    }
   ],
   "dockerImageVersionId": 30698,
   "isGpuEnabled": false,
   "isInternetEnabled": true,
   "language": "python",
   "sourceType": "notebook"
  },
  "kernelspec": {
   "display_name": "Python 3",
   "language": "python",
   "name": "python3"
  },
  "language_info": {
   "codemirror_mode": {
    "name": "ipython",
    "version": 3
   },
   "file_extension": ".py",
   "mimetype": "text/x-python",
   "name": "python",
   "nbconvert_exporter": "python",
   "pygments_lexer": "ipython3",
   "version": "3.10.13"
  },
  "papermill": {
   "default_parameters": {},
   "duration": 112.489668,
   "end_time": "2024-04-19T10:52:31.094981",
   "environment_variables": {},
   "exception": null,
   "input_path": "__notebook__.ipynb",
   "output_path": "__notebook__.ipynb",
   "parameters": {},
   "start_time": "2024-04-19T10:50:38.605313",
   "version": "2.5.0"
  }
 },
 "nbformat": 4,
 "nbformat_minor": 5
}
